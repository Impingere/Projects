{
 "cells": [
  {
   "cell_type": "markdown",
   "id": "9b631fed",
   "metadata": {},
   "source": [
    "### 19.3.3 SQL Case Study - Tier 2 - Jupyter Notebook Questions"
   ]
  },
  {
   "cell_type": "markdown",
   "id": "afdb6f2e",
   "metadata": {},
   "source": [
    "### Imports"
   ]
  },
  {
   "cell_type": "code",
   "execution_count": 4,
   "id": "965c5b83",
   "metadata": {},
   "outputs": [],
   "source": [
    "import os\n",
    "from sqlalchemy import create_engine\n",
    "import pandas as pd\n",
    "import sqlite3\n",
    "\n",
    "engine = create_engine('sqlite:///sqlite_db_pythonsqlite.db')"
   ]
  },
  {
   "cell_type": "markdown",
   "id": "5794201b",
   "metadata": {},
   "source": [
    "Q10: Produce a list of facilities with a total revenue less than 1000. The output of facility name and total revenue, sorted by revenue. Remember that there's a different cost for guests \n",
    "and members!"
   ]
  },
  {
   "cell_type": "code",
   "execution_count": 42,
   "id": "a21cb6c7",
   "metadata": {
    "scrolled": false
   },
   "outputs": [
    {
     "name": "stdout",
     "output_type": "stream",
     "text": [
      "              name  total_revenue\n",
      "0  Badminton Court              0\n",
      "1       Pool Table              0\n",
      "2    Snooker Table              0\n",
      "3     Table Tennis              0\n"
     ]
    }
   ],
   "source": [
    "conn = sqlite3.connect('sqlite_db_pythonsqlite.db')\n",
    "\n",
    "query = \"\"\"\n",
    "SELECT \n",
    "    f.name,\n",
    "    SUM(CASE \n",
    "        WHEN b.memid IS NOT NULL THEN f.membercost * b.slots\n",
    "        ELSE f.guestcost * b.slots\n",
    "    END) AS total_revenue\n",
    "FROM \n",
    "    Facilities AS f\n",
    "JOIN \n",
    "    Bookings AS b ON f.facid = b.facid\n",
    "GROUP BY \n",
    "    f.name\n",
    "HAVING \n",
    "    SUM(CASE \n",
    "        WHEN b.memid IS NOT NULL THEN f.membercost * b.slots\n",
    "        ELSE f.guestcost * b.slots\n",
    "    END) < 1000\n",
    "ORDER BY \n",
    "    total_revenue;\n",
    "\"\"\"\n",
    "\n",
    "df = pd.read_sql_query(query, conn)\n",
    "\n",
    "conn.close()\n",
    "\n",
    "print(df)"
   ]
  },
  {
   "cell_type": "markdown",
   "id": "9e3f3763",
   "metadata": {},
   "source": [
    "Q11: Produce a report of members and who recommended them in alphabetic surname,firstname order."
   ]
  },
  {
   "cell_type": "code",
   "execution_count": 52,
   "id": "975091bd",
   "metadata": {
    "scrolled": true
   },
   "outputs": [
    {
     "name": "stdout",
     "output_type": "stream",
     "text": [
      "              surname  firstname     recommended_by\n",
      "0               Bader   Florence    Ponder Stibbons\n",
      "1               Baker       Anne    Ponder Stibbons\n",
      "2               Baker    Timothy     Jemima Farrell\n",
      "3              Boothe        Tim         Tim Rownam\n",
      "4             Butters     Gerald       Darren Smith\n",
      "5              Coplin       Joan      Timothy Baker\n",
      "6             Crumpet      Erica        Tracy Smith\n",
      "7                Dare      Nancy    Janice Joplette\n",
      "8             Genting    Matthew     Gerald Butters\n",
      "9                Hunt       John  Millicent Purview\n",
      "10              Jones      David    Janice Joplette\n",
      "11              Jones    Douglas        David Jones\n",
      "12           Joplette     Janice       Darren Smith\n",
      "13          Mackenzie       Anna       Darren Smith\n",
      "14               Owen    Charles       Darren Smith\n",
      "15             Pinker      David     Jemima Farrell\n",
      "16            Purview  Millicent        Tracy Smith\n",
      "17             Rumney  Henrietta    Matthew Genting\n",
      "18             Sarwin  Ramnaresh     Florence Bader\n",
      "19              Smith       Jack       Darren Smith\n",
      "20           Stibbons     Ponder       Burton Tracy\n",
      "21  Worthington-Smyth      Henry        Tracy Smith\n"
     ]
    }
   ],
   "source": [
    "conn1 = sqlite3.connect('sqlite_db_pythonsqlite.db')\n",
    "\n",
    "query1 = \"\"\"\n",
    "SELECT \n",
    "    m1.surname,\n",
    "    m1.firstname,\n",
    "    (m2.firstname || ' ' || m2.surname) AS recommended_by\n",
    "FROM \n",
    "    Members AS m1\n",
    "INNER JOIN \n",
    "    Members AS m2 ON m1.recommendedby = m2.memid\n",
    "WHERE \n",
    "    m1.recommendedby IS NOT NULL AND m1.recommendedby > 0\n",
    "ORDER BY \n",
    "    m1.surname, m1.firstname;\n",
    "\"\"\"\n",
    "\n",
    "df1 = pd.read_sql_query(query1, conn1)\n",
    "\n",
    "conn1.close()\n",
    "\n",
    "print(df1)"
   ]
  },
  {
   "cell_type": "markdown",
   "id": "94e09310",
   "metadata": {},
   "source": [
    "Q12: Find the facilities with their usage by member, but not guests."
   ]
  },
  {
   "cell_type": "code",
   "execution_count": 67,
   "id": "93d9e26f",
   "metadata": {},
   "outputs": [
    {
     "name": "stdout",
     "output_type": "stream",
     "text": [
      "     Facility_Name  Member_Usage\n",
      "0  Badminton Court           344\n",
      "1   Massage Room 1           421\n",
      "2   Massage Room 2            27\n",
      "3       Pool Table           783\n",
      "4    Snooker Table           421\n",
      "5     Squash Court           195\n",
      "6     Table Tennis           385\n",
      "7   Tennis Court 1           308\n",
      "8   Tennis Court 2           276\n"
     ]
    }
   ],
   "source": [
    "conn2 = sqlite3.connect('sqlite_db_pythonsqlite.db')\n",
    "\n",
    "query2 = \"\"\"\n",
    "SELECT \n",
    "    f.name AS Facility_Name,\n",
    "    COUNT(b.bookid) AS Member_Usage\n",
    "FROM \n",
    "    Bookings AS b\n",
    "JOIN \n",
    "    Facilities AS f ON b.facid = f.facid\n",
    "WHERE \n",
    "    b.memid != 0\n",
    "GROUP BY \n",
    "    f.facid\n",
    "ORDER BY \n",
    "    f.name;\n",
    "\"\"\"\n",
    "\n",
    "df2 = pd.read_sql_query(query2, conn2)\n",
    "\n",
    "conn2.close()\n",
    "\n",
    "print(df2)"
   ]
  },
  {
   "cell_type": "markdown",
   "id": "461815d7",
   "metadata": {},
   "source": [
    "Q13: Find the facilities usage by month, but not guests."
   ]
  },
  {
   "cell_type": "code",
   "execution_count": 68,
   "id": "f7ec246d",
   "metadata": {},
   "outputs": [
    {
     "name": "stdout",
     "output_type": "stream",
     "text": [
      "      Facility_Name    Month  Member_Usage_Count\n",
      "0   Badminton Court  2012-07                  51\n",
      "1   Badminton Court  2012-08                 132\n",
      "2   Badminton Court  2012-09                 161\n",
      "3    Massage Room 1  2012-07                  77\n",
      "4    Massage Room 1  2012-08                 153\n",
      "5    Massage Room 1  2012-09                 191\n",
      "6    Massage Room 2  2012-07                   4\n",
      "7    Massage Room 2  2012-08                   9\n",
      "8    Massage Room 2  2012-09                  14\n",
      "9        Pool Table  2012-07                 103\n",
      "10       Pool Table  2012-08                 272\n",
      "11       Pool Table  2012-09                 408\n",
      "12    Snooker Table  2012-07                  68\n",
      "13    Snooker Table  2012-08                 154\n",
      "14    Snooker Table  2012-09                 199\n",
      "15     Squash Court  2012-07                  23\n",
      "16     Squash Court  2012-08                  85\n",
      "17     Squash Court  2012-09                  87\n",
      "18     Table Tennis  2012-07                  48\n",
      "19     Table Tennis  2012-08                 143\n",
      "20     Table Tennis  2012-09                 194\n",
      "21   Tennis Court 1  2012-07                  65\n",
      "22   Tennis Court 1  2012-08                 111\n",
      "23   Tennis Court 1  2012-09                 132\n",
      "24   Tennis Court 2  2012-07                  41\n",
      "25   Tennis Court 2  2012-08                 109\n",
      "26   Tennis Court 2  2012-09                 126\n"
     ]
    }
   ],
   "source": [
    "conn3 = sqlite3.connect('sqlite_db_pythonsqlite.db')\n",
    "\n",
    "query3 = \"\"\"\n",
    "SELECT \n",
    "    f.name AS Facility_Name,\n",
    "    STRFTIME('%Y-%m', b.starttime) AS Month,\n",
    "    COUNT(b.bookid) AS Member_Usage_Count\n",
    "FROM \n",
    "    Bookings AS b\n",
    "JOIN \n",
    "    Facilities AS f ON b.facid = f.facid\n",
    "WHERE \n",
    "    b.memid != 0\n",
    "GROUP BY \n",
    "    f.facid, STRFTIME('%Y-%m', b.starttime)\n",
    "ORDER BY \n",
    "    f.name, STRFTIME('%Y-%m', b.starttime);\n",
    "\"\"\"\n",
    "\n",
    "df3 = pd.read_sql_query(query3, conn3)\n",
    "\n",
    "conn3.close()\n",
    "\n",
    "print(df3)"
   ]
  }
 ],
 "metadata": {
  "kernelspec": {
   "display_name": "Python 3 (ipykernel)",
   "language": "python",
   "name": "python3"
  },
  "language_info": {
   "codemirror_mode": {
    "name": "ipython",
    "version": 3
   },
   "file_extension": ".py",
   "mimetype": "text/x-python",
   "name": "python",
   "nbconvert_exporter": "python",
   "pygments_lexer": "ipython3",
   "version": "3.11.4"
  }
 },
 "nbformat": 4,
 "nbformat_minor": 5
}
