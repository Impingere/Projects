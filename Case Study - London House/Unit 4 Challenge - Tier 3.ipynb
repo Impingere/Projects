{
 "cells": [
  {
   "cell_type": "markdown",
   "metadata": {
    "colab_type": "text",
    "id": "Tia3MP1SJpgj"
   },
   "source": [
    "# Springboard Data Science Career Track Unit 4 Challenge - Tier 3 Complete\n",
    "\n",
    "## Objectives\n",
    "Hey! Great job getting through those challenging DataCamp courses. You're learning a lot in a short span of time. \n",
    "\n",
    "In this notebook, you're going to apply the skills you've been learning, bridging the gap between the controlled environment of DataCamp and the *slightly* messier work that data scientists do with actual datasets!\n",
    "\n",
    "Here’s the mystery we’re going to solve: ***which boroughs of London have seen the greatest increase in housing prices, on average, over the last two decades?***\n",
    "\n",
    "\n",
    "A borough is just a fancy word for district. You may be familiar with the five boroughs of New York… well, there are 32 boroughs within Greater London [(here's some info for the curious)](https://en.wikipedia.org/wiki/London_boroughs). Some of them are more desirable areas to live in, and the data will reflect that with a greater rise in housing prices.\n",
    "\n",
    "***This is the Tier 3 notebook, which means it's not filled in at all: we'll just give you the skeleton of a project, the brief and the data. It's up to you to play around with it and see what you can find out! Good luck! If you struggle, feel free to look at easier tiers for help; but try to dip in and out of them, as the more independent work you do, the better it is for your learning!***\n",
    "\n",
    "This challenge will make use of only what you learned in the following DataCamp courses: \n",
    "- Prework courses (Introduction to Python for Data Science, Intermediate Python for Data Science)\n",
    "- Data Types for Data Science\n",
    "- Python Data Science Toolbox (Part One) \n",
    "- pandas Foundations\n",
    "- Manipulating DataFrames with pandas\n",
    "- Merging DataFrames with pandas\n",
    "\n",
    "Of the tools, techniques and concepts in the above DataCamp courses, this challenge should require the application of the following: \n",
    "- **pandas**\n",
    "    - **data ingestion and inspection** (pandas Foundations, Module One) \n",
    "    - **exploratory data analysis** (pandas Foundations, Module Two)\n",
    "    - **tidying and cleaning** (Manipulating DataFrames with pandas, Module Three) \n",
    "    - **transforming DataFrames** (Manipulating DataFrames with pandas, Module One)\n",
    "    - **subsetting DataFrames with lists** (Manipulating DataFrames with pandas, Module One) \n",
    "    - **filtering DataFrames** (Manipulating DataFrames with pandas, Module One) \n",
    "    - **grouping data** (Manipulating DataFrames with pandas, Module Four) \n",
    "    - **melting data** (Manipulating DataFrames with pandas, Module Three) \n",
    "    - **advanced indexing** (Manipulating DataFrames with pandas, Module Four) \n",
    "- **matplotlib** (Intermediate Python for Data Science, Module One)\n",
    "- **fundamental data types** (Data Types for Data Science, Module One) \n",
    "- **dictionaries** (Intermediate Python for Data Science, Module Two)\n",
    "- **handling dates and times** (Data Types for Data Science, Module Four)\n",
    "- **function definition** (Python Data Science Toolbox - Part One, Module One)\n",
    "- **default arguments, variable length, and scope** (Python Data Science Toolbox - Part One, Module Two) \n",
    "- **lambda functions and error handling** (Python Data Science Toolbox - Part One, Module Four) "
   ]
  },
  {
   "cell_type": "markdown",
   "metadata": {
    "colab_type": "text",
    "id": "Ipgd2nV8Jpgl"
   },
   "source": [
    "## The Data Science Pipeline\n",
    "\n",
    "This is Tier Three, so we'll get you started. But after that, it's all in your hands! When you feel done with your investigations, look back over what you've accomplished, and prepare a quick presentation of your findings for the next mentor meeting. \n",
    "\n",
    "Data Science is magical. In this case study, you'll get to apply some complex machine learning algorithms. But as  [David Spiegelhalter](https://www.youtube.com/watch?v=oUs1uvsz0Ok) reminds us, there is no substitute for simply **taking a really, really good look at the data.** Sometimes, this is all we need to answer our question.\n",
    "\n",
    "Data Science projects generally adhere to the four stages of Data Science Pipeline:\n",
    "1. Sourcing and loading \n",
    "2. Cleaning, transforming, and visualizing \n",
    "3. Modeling \n",
    "4. Evaluating and concluding \n"
   ]
  },
  {
   "cell_type": "markdown",
   "metadata": {
    "colab_type": "text",
    "id": "zswDqbefJpgm"
   },
   "source": [
    "### 1. Sourcing and Loading \n",
    "\n",
    "Any Data Science project kicks off by importing  ***pandas***. The documentation of this wonderful library can be found [here](https://pandas.pydata.org/). As you've seen, pandas is conveniently connected to the [Numpy](http://www.numpy.org/) and [Matplotlib](https://matplotlib.org/) libraries. \n",
    "\n",
    "***Hint:*** This part of the data science pipeline will test those skills you acquired in the pandas Foundations course, Module One. "
   ]
  },
  {
   "cell_type": "markdown",
   "metadata": {
    "colab_type": "text",
    "id": "aEau5nEvJpgm"
   },
   "source": [
    "#### 1.1. Importing Libraries"
   ]
  },
  {
   "cell_type": "code",
   "execution_count": 2,
   "metadata": {
    "colab": {},
    "colab_type": "code",
    "id": "7Bt_Q_oPJpgn"
   },
   "outputs": [],
   "source": [
    "# Let's import the pandas, numpy libraries as pd, and np respectively. \n",
    "import pandas as pd\n",
    "import numpy as np\n",
    "\n",
    "# Load the pyplot collection of functions from matplotlib, as plt \n",
    "from matplotlib import pyplot as plt"
   ]
  },
  {
   "cell_type": "markdown",
   "metadata": {
    "colab_type": "text",
    "id": "koUrawxsJpgq"
   },
   "source": [
    "#### 1.2.  Loading the data\n",
    "Your data comes from the [London Datastore](https://data.london.gov.uk/): a free, open-source data-sharing portal for London-oriented datasets. "
   ]
  },
  {
   "cell_type": "code",
   "execution_count": 3,
   "metadata": {
    "colab": {},
    "colab_type": "code",
    "id": "AiLiD4v3Jpgr"
   },
   "outputs": [],
   "source": [
    "# First, make a variable called url_LondonHousePrices, and assign it the following link, enclosed in quotation-marks as a string:\n",
    "# https://data.london.gov.uk/download/uk-house-price-index/70ac0766-8902-4eb5-aab5-01951aaed773/UK%20House%20price%20index.xls\n",
    "\n",
    "url_LondonHousePrices = \"https://data.london.gov.uk/download/uk-house-price-index/70ac0766-8902-4eb5-aab5-01951aaed773/UK%20House%20price%20index.xls\"\n",
    "\n",
    "# The dataset we're interested in contains the Average prices of the houses, and is actually on a particular sheet of the Excel file. \n",
    "# As a result, we need to specify the sheet name in the read_excel() method.\n",
    "# Put this data into a variable called properties.  \n",
    "properties = pd.read_excel(url_LondonHousePrices, sheet_name='Average price', index_col= None)"
   ]
  },
  {
   "cell_type": "markdown",
   "metadata": {
    "colab_type": "text",
    "id": "POukEJXgJpgu"
   },
   "source": [
    "### 2. Cleaning, transforming, and visualizing\n",
    "This second stage is arguably the most important part of any Data Science project. The first thing to do is take a proper look at the data. Cleaning forms the majority of this stage, and can be done both before or after Transformation.\n",
    "\n",
    "The end goal of data cleaning is to have tidy data. When data is tidy: \n",
    "\n",
    "1. Each variable has a column.\n",
    "2. Each observation forms a row.\n",
    "\n",
    "Keep the end goal in mind as you move through this process, every step will take you closer. \n",
    "\n",
    "\n",
    "\n",
    "***Hint:*** This part of the data science pipeline should test those skills you acquired in: \n",
    "- Intermediate Python for data science, all modules.\n",
    "- pandas Foundations, all modules. \n",
    "- Manipulating DataFrames with pandas, all modules.\n",
    "- Data Types for Data Science, Module Four.\n",
    "- Python Data Science Toolbox - Part One, all modules"
   ]
  },
  {
   "cell_type": "markdown",
   "metadata": {
    "colab_type": "text",
    "id": "Te0Q548tnzZa"
   },
   "source": [
    "**2.1. Exploring your data** \n",
    "\n",
    "Think about your pandas functions for checking out a dataframe. "
   ]
  },
  {
   "cell_type": "code",
   "execution_count": 68,
   "metadata": {
    "colab": {},
    "colab_type": "code",
    "id": "Rxirxw_qoAJa"
   },
   "outputs": [
    {
     "name": "stdout",
     "output_type": "stream",
     "text": [
      "  Unnamed: 0 City of London Barking & Dagenham       Barnet       Bexley  \\\n",
      "0        NaT      E09000001          E09000002    E09000003    E09000004   \n",
      "1 1995-01-01    91448.98487         50460.2266  93284.51832  64958.09036   \n",
      "2 1995-02-01    82202.77314        51085.77983  93190.16963  64787.92069   \n",
      "3 1995-03-01    79120.70256        51268.96956  92247.52435  64367.49344   \n",
      "4 1995-04-01    77101.20804        53133.50526  90762.87492  64277.66881   \n",
      "\n",
      "         Brent      Bromley       Camden      Croydon       Ealing  ...  \\\n",
      "0    E09000005    E09000006    E09000007    E09000008    E09000009  ...   \n",
      "1  71306.56698  81671.47692  120932.8881  69158.16225  79885.89069  ...   \n",
      "2  72022.26197  81657.55944  119508.8622  68951.09542  80897.06551  ...   \n",
      "3  72015.76274  81449.31143  120282.2131  68712.44341  81379.86288  ...   \n",
      "4  72965.63094  81124.41227   120097.899  68610.04641  82188.90498  ...   \n",
      "\n",
      "    NORTH WEST YORKS & THE HUMBER EAST MIDLANDS WEST MIDLANDS EAST OF ENGLAND  \\\n",
      "0    E12000002          E12000003     E12000004     E12000005       E12000006   \n",
      "1  43958.48001        44803.42878   45544.52227   48527.52339      56701.5961   \n",
      "2  43925.42289        44528.80721   46051.57066   49341.29029     56593.59475   \n",
      "3   44434.8681        45200.46775   45383.82395   49442.17973     56171.18278   \n",
      "4   44267.7796        45614.34341   46124.23045   49455.93299     56567.89582   \n",
      "\n",
      "        LONDON   SOUTH EAST   SOUTH WEST Unnamed: 47      England  \n",
      "0    E12000007    E12000008    E12000009         NaN    E92000001  \n",
      "1  74435.76052  64018.87894   54705.1579         NaN  53202.77128  \n",
      "2  72777.93709  63715.02399  54356.14843         NaN   53096.1549  \n",
      "3  73896.84204  64113.60858  53583.07667         NaN   53201.2843  \n",
      "4  74455.28754  64623.22395  54786.01938         NaN   53590.8548  \n",
      "\n",
      "[5 rows x 49 columns]\n"
     ]
    }
   ],
   "source": [
    "# exploring format\n",
    "print(properties.head())"
   ]
  },
  {
   "cell_type": "markdown",
   "metadata": {
    "colab_type": "text",
    "id": "tE9Sqt9-oAta"
   },
   "source": [
    "**2.2. Cleaning the data**\n",
    "\n",
    "You might find you need to transpose your dataframe, check out what its row indexes are, and reset the index. You  also might find you need to assign the values of the first row to your column headings  . (Hint: recall the .columns feature of DataFrames, as well as the iloc[] method).\n",
    "\n",
    "Don't be afraid to use StackOverflow for help  with this."
   ]
  },
  {
   "cell_type": "code",
   "execution_count": 4,
   "metadata": {
    "colab": {},
    "colab_type": "code",
    "id": "cdAu1A3YoH_r"
   },
   "outputs": [
    {
     "name": "stdout",
     "output_type": "stream",
     "text": [
      "                          0                    1                    2    \\\n",
      "Unnamed: 0                NaT  1995-01-01 00:00:00  1995-02-01 00:00:00   \n",
      "City of London      E09000001          91448.98487          82202.77314   \n",
      "Barking & Dagenham  E09000002           50460.2266          51085.77983   \n",
      "Barnet              E09000003          93284.51832          93190.16963   \n",
      "Bexley              E09000004          64958.09036          64787.92069   \n",
      "\n",
      "                                    3                    4    \\\n",
      "Unnamed: 0          1995-03-01 00:00:00  1995-04-01 00:00:00   \n",
      "City of London              79120.70256          77101.20804   \n",
      "Barking & Dagenham          51268.96956          53133.50526   \n",
      "Barnet                      92247.52435          90762.87492   \n",
      "Bexley                      64367.49344          64277.66881   \n",
      "\n",
      "                                    5                    6    \\\n",
      "Unnamed: 0          1995-05-01 00:00:00  1995-06-01 00:00:00   \n",
      "City of London              84409.14932          94900.51244   \n",
      "Barking & Dagenham          53042.24852          53700.34831   \n",
      "Barnet                      90258.00033          90107.23471   \n",
      "Bexley                      63997.13588          64252.32335   \n",
      "\n",
      "                                    7                    8    \\\n",
      "Unnamed: 0          1995-07-01 00:00:00  1995-08-01 00:00:00   \n",
      "City of London              110128.0423          112329.4376   \n",
      "Barking & Dagenham          52113.12157          52232.19868   \n",
      "Barnet                      91441.24768          92361.31512   \n",
      "Bexley                      63722.70055          64432.60005   \n",
      "\n",
      "                                    9    ...                  334  \\\n",
      "Unnamed: 0          1995-09-01 00:00:00  ...  2022-10-01 00:00:00   \n",
      "City of London              104473.1096  ...               973458   \n",
      "Barking & Dagenham          51471.61353  ...               349905   \n",
      "Barnet                      93273.12245  ...               600364   \n",
      "Bexley                      64509.54767  ...               410408   \n",
      "\n",
      "                                    335                  336  \\\n",
      "Unnamed: 0          2022-11-01 00:00:00  2022-12-01 00:00:00   \n",
      "City of London                  1004759               988570   \n",
      "Barking & Dagenham               353775               356888   \n",
      "Barnet                           592924               593473   \n",
      "Bexley                           409900               409256   \n",
      "\n",
      "                                    337                  338  \\\n",
      "Unnamed: 0          2023-01-01 00:00:00  2023-02-01 00:00:00   \n",
      "City of London                   976404               881547   \n",
      "Barking & Dagenham               353797               346090   \n",
      "Barnet                           599019               605323   \n",
      "Bexley                           401196               402751   \n",
      "\n",
      "                                    339                  340  \\\n",
      "Unnamed: 0          2023-03-01 00:00:00  2023-04-01 00:00:00   \n",
      "City of London                   927741               901007   \n",
      "Barking & Dagenham               344370               351138   \n",
      "Barnet                           598176               588643   \n",
      "Bexley                           401053               402643   \n",
      "\n",
      "                                    341                  342  \\\n",
      "Unnamed: 0          2023-05-01 00:00:00  2023-06-01 00:00:00   \n",
      "City of London                   950246               944505   \n",
      "Barking & Dagenham               353413               350114   \n",
      "Barnet                           575647               578354   \n",
      "Bexley                           396776               396579   \n",
      "\n",
      "                                    343  \n",
      "Unnamed: 0          2023-07-01 00:00:00  \n",
      "City of London                   905489  \n",
      "Barking & Dagenham               343291  \n",
      "Barnet                           587570  \n",
      "Bexley                           401134  \n",
      "\n",
      "[5 rows x 344 columns]\n"
     ]
    }
   ],
   "source": [
    "# transposing dataframe for more workable format\n",
    "prop_trans = properties.transpose()\n",
    "print(prop_trans.head())"
   ]
  },
  {
   "cell_type": "code",
   "execution_count": 5,
   "metadata": {},
   "outputs": [
    {
     "name": "stdout",
     "output_type": "stream",
     "text": [
      "                index          0                    1                    2  \\\n",
      "0          Unnamed: 0        NaT  1995-01-01 00:00:00  1995-02-01 00:00:00   \n",
      "1      City of London  E09000001          91448.98487          82202.77314   \n",
      "2  Barking & Dagenham  E09000002           50460.2266          51085.77983   \n",
      "3              Barnet  E09000003          93284.51832          93190.16963   \n",
      "4              Bexley  E09000004          64958.09036          64787.92069   \n",
      "\n",
      "                     3                    4                    5  \\\n",
      "0  1995-03-01 00:00:00  1995-04-01 00:00:00  1995-05-01 00:00:00   \n",
      "1          79120.70256          77101.20804          84409.14932   \n",
      "2          51268.96956          53133.50526          53042.24852   \n",
      "3          92247.52435          90762.87492          90258.00033   \n",
      "4          64367.49344          64277.66881          63997.13588   \n",
      "\n",
      "                     6                    7                    8  ...  \\\n",
      "0  1995-06-01 00:00:00  1995-07-01 00:00:00  1995-08-01 00:00:00  ...   \n",
      "1          94900.51244          110128.0423          112329.4376  ...   \n",
      "2          53700.34831          52113.12157          52232.19868  ...   \n",
      "3          90107.23471          91441.24768          92361.31512  ...   \n",
      "4          64252.32335          63722.70055          64432.60005  ...   \n",
      "\n",
      "                   334                  335                  336  \\\n",
      "0  2022-10-01 00:00:00  2022-11-01 00:00:00  2022-12-01 00:00:00   \n",
      "1               973458              1004759               988570   \n",
      "2               349905               353775               356888   \n",
      "3               600364               592924               593473   \n",
      "4               410408               409900               409256   \n",
      "\n",
      "                   337                  338                  339  \\\n",
      "0  2023-01-01 00:00:00  2023-02-01 00:00:00  2023-03-01 00:00:00   \n",
      "1               976404               881547               927741   \n",
      "2               353797               346090               344370   \n",
      "3               599019               605323               598176   \n",
      "4               401196               402751               401053   \n",
      "\n",
      "                   340                  341                  342  \\\n",
      "0  2023-04-01 00:00:00  2023-05-01 00:00:00  2023-06-01 00:00:00   \n",
      "1               901007               950246               944505   \n",
      "2               351138               353413               350114   \n",
      "3               588643               575647               578354   \n",
      "4               402643               396776               396579   \n",
      "\n",
      "                   343  \n",
      "0  2023-07-01 00:00:00  \n",
      "1               905489  \n",
      "2               343291  \n",
      "3               587570  \n",
      "4               401134  \n",
      "\n",
      "[5 rows x 345 columns]\n"
     ]
    }
   ],
   "source": [
    "# resetting index\n",
    "prop_trans.reset_index(drop=False,inplace=True)\n",
    "print(prop_trans.head())"
   ]
  },
  {
   "cell_type": "code",
   "execution_count": 6,
   "metadata": {},
   "outputs": [
    {
     "name": "stdout",
     "output_type": "stream",
     "text": [
      "0          Unnamed: 0        NaT 1995-01-01 00:00:00 1995-02-01 00:00:00  \\\n",
      "1      City of London  E09000001         91448.98487         82202.77314   \n",
      "2  Barking & Dagenham  E09000002          50460.2266         51085.77983   \n",
      "3              Barnet  E09000003         93284.51832         93190.16963   \n",
      "4              Bexley  E09000004         64958.09036         64787.92069   \n",
      "5               Brent  E09000005         71306.56698         72022.26197   \n",
      "\n",
      "0 1995-03-01 00:00:00 1995-04-01 00:00:00 1995-05-01 00:00:00  \\\n",
      "1         79120.70256         77101.20804         84409.14932   \n",
      "2         51268.96956         53133.50526         53042.24852   \n",
      "3         92247.52435         90762.87492         90258.00033   \n",
      "4         64367.49344         64277.66881         63997.13588   \n",
      "5         72015.76274         72965.63094         73704.04743   \n",
      "\n",
      "0 1995-06-01 00:00:00 1995-07-01 00:00:00 1995-08-01 00:00:00  ...  \\\n",
      "1         94900.51244         110128.0423         112329.4376  ...   \n",
      "2         53700.34831         52113.12157         52232.19868  ...   \n",
      "3         90107.23471         91441.24768         92361.31512  ...   \n",
      "4         64252.32335         63722.70055         64432.60005  ...   \n",
      "5         74310.48167         74127.03788          73547.0411  ...   \n",
      "\n",
      "0 2022-10-01 00:00:00 2022-11-01 00:00:00 2022-12-01 00:00:00  \\\n",
      "1              973458             1004759              988570   \n",
      "2              349905              353775              356888   \n",
      "3              600364              592924              593473   \n",
      "4              410408              409900              409256   \n",
      "5              570358              563989              554012   \n",
      "\n",
      "0 2023-01-01 00:00:00 2023-02-01 00:00:00 2023-03-01 00:00:00  \\\n",
      "1              976404              881547              927741   \n",
      "2              353797              346090              344370   \n",
      "3              599019              605323              598176   \n",
      "4              401196              402751              401053   \n",
      "5              549994              535840              527463   \n",
      "\n",
      "0 2023-04-01 00:00:00 2023-05-01 00:00:00 2023-06-01 00:00:00  \\\n",
      "1              901007              950246              944505   \n",
      "2              351138              353413              350114   \n",
      "3              588643              575647              578354   \n",
      "4              402643              396776              396579   \n",
      "5              529353              531901              538223   \n",
      "\n",
      "0 2023-07-01 00:00:00  \n",
      "1              905489  \n",
      "2              343291  \n",
      "3              587570  \n",
      "4              401134  \n",
      "5              523184  \n",
      "\n",
      "[5 rows x 345 columns]\n"
     ]
    }
   ],
   "source": [
    "# creating a new header with the data from the 1st row\n",
    "new_header = prop_trans.iloc[0]\n",
    "prop_trans = prop_trans[1:]\n",
    "prop_trans.columns = new_header\n",
    "print(prop_trans.head())"
   ]
  },
  {
   "cell_type": "markdown",
   "metadata": {
    "colab_type": "text",
    "id": "o1uLbJAsoIjK"
   },
   "source": [
    "**2.3. Cleaning the data (part 2)**\n",
    "\n",
    "You might we have to **rename** a couple columns. How do you do this? The clue's pretty bold..."
   ]
  },
  {
   "cell_type": "code",
   "execution_count": 7,
   "metadata": {
    "colab": {},
    "colab_type": "code",
    "id": "GKkmn1AnoVZS"
   },
   "outputs": [
    {
     "name": "stdout",
     "output_type": "stream",
     "text": [
      "0             Borough         ID 1995-01-01 00:00:00 1995-02-01 00:00:00  \\\n",
      "1      City of London  E09000001         91448.98487         82202.77314   \n",
      "2  Barking & Dagenham  E09000002          50460.2266         51085.77983   \n",
      "3              Barnet  E09000003         93284.51832         93190.16963   \n",
      "4              Bexley  E09000004         64958.09036         64787.92069   \n",
      "5               Brent  E09000005         71306.56698         72022.26197   \n",
      "\n",
      "0 1995-03-01 00:00:00 1995-04-01 00:00:00 1995-05-01 00:00:00  \\\n",
      "1         79120.70256         77101.20804         84409.14932   \n",
      "2         51268.96956         53133.50526         53042.24852   \n",
      "3         92247.52435         90762.87492         90258.00033   \n",
      "4         64367.49344         64277.66881         63997.13588   \n",
      "5         72015.76274         72965.63094         73704.04743   \n",
      "\n",
      "0 1995-06-01 00:00:00 1995-07-01 00:00:00 1995-08-01 00:00:00  ...  \\\n",
      "1         94900.51244         110128.0423         112329.4376  ...   \n",
      "2         53700.34831         52113.12157         52232.19868  ...   \n",
      "3         90107.23471         91441.24768         92361.31512  ...   \n",
      "4         64252.32335         63722.70055         64432.60005  ...   \n",
      "5         74310.48167         74127.03788          73547.0411  ...   \n",
      "\n",
      "0 2022-10-01 00:00:00 2022-11-01 00:00:00 2022-12-01 00:00:00  \\\n",
      "1              973458             1004759              988570   \n",
      "2              349905              353775              356888   \n",
      "3              600364              592924              593473   \n",
      "4              410408              409900              409256   \n",
      "5              570358              563989              554012   \n",
      "\n",
      "0 2023-01-01 00:00:00 2023-02-01 00:00:00 2023-03-01 00:00:00  \\\n",
      "1              976404              881547              927741   \n",
      "2              353797              346090              344370   \n",
      "3              599019              605323              598176   \n",
      "4              401196              402751              401053   \n",
      "5              549994              535840              527463   \n",
      "\n",
      "0 2023-04-01 00:00:00 2023-05-01 00:00:00 2023-06-01 00:00:00  \\\n",
      "1              901007              950246              944505   \n",
      "2              351138              353413              350114   \n",
      "3              588643              575647              578354   \n",
      "4              402643              396776              396579   \n",
      "5              529353              531901              538223   \n",
      "\n",
      "0 2023-07-01 00:00:00  \n",
      "1              905489  \n",
      "2              343291  \n",
      "3              587570  \n",
      "4              401134  \n",
      "5              523184  \n",
      "\n",
      "[5 rows x 345 columns]\n"
     ]
    }
   ],
   "source": [
    "# renaming columns 1 & 2\n",
    "prop_trans = prop_trans.rename(columns={'Unnamed: 0': 'Borough', pd.NaT: 'ID'})\n",
    "print(prop_trans.head())"
   ]
  },
  {
   "cell_type": "markdown",
   "metadata": {
    "colab_type": "text",
    "id": "jy8BzXHmoWEw"
   },
   "source": [
    "**2.4.Transforming the data**\n",
    "\n",
    "Remember what Wes McKinney said about tidy data? \n",
    "\n",
    "You might need to **melt** your DataFrame here. "
   ]
  },
  {
   "cell_type": "code",
   "execution_count": 8,
   "metadata": {
    "colab": {},
    "colab_type": "code",
    "id": "S2wM0qLuo2Zt"
   },
   "outputs": [
    {
     "name": "stdout",
     "output_type": "stream",
     "text": [
      "Borough            object\n",
      "ID                 object\n",
      "Month      datetime64[ns]\n",
      "Price              object\n",
      "dtype: object\n"
     ]
    }
   ],
   "source": [
    "# creating melt copy of dataframe for better visualizations\n",
    "prop_trans_tall = prop_trans.melt(id_vars=['Borough','ID'], var_name=['Month'], value_name='Price')\n",
    "print(prop_trans_tall.dtypes)"
   ]
  },
  {
   "cell_type": "markdown",
   "metadata": {
    "colab_type": "text",
    "id": "7kIsgAo7o3mf"
   },
   "source": [
    "Remember to make sure your column data types are all correct. Average prices, for example, should be floating point numbers... "
   ]
  },
  {
   "cell_type": "code",
   "execution_count": 20,
   "metadata": {
    "colab": {},
    "colab_type": "code",
    "id": "ZcR4IHbcpOaq"
   },
   "outputs": [
    {
     "name": "stdout",
     "output_type": "stream",
     "text": [
      "Borough            object\n",
      "ID                 object\n",
      "Month      datetime64[ns]\n",
      "Price             float64\n",
      "dtype: object\n",
      "           Borough         ID      Month     Price\n",
      "16459       LONDON  E12000007 2023-07-01  534265.0\n",
      "16460   SOUTH EAST  E12000008 2023-07-01  394096.0\n",
      "16461   SOUTH WEST  E12000009 2023-07-01  323713.0\n",
      "16462  Unnamed: 47        NaN 2023-07-01       NaN\n",
      "16463      England  E92000001 2023-07-01  308633.0\n"
     ]
    }
   ],
   "source": [
    "# setting 'Price' column to float data type\n",
    "prop_trans_tall['Price'] = prop_trans_tall['Price'].astype(float)\n",
    "print(prop_trans_tall.dtypes)\n",
    "print(prop_trans_tall.tail())"
   ]
  },
  {
   "cell_type": "markdown",
   "metadata": {
    "colab_type": "text",
    "id": "knLUXHLypOtw"
   },
   "source": [
    "**2.5. Cleaning the data (part 3)**\n",
    "\n",
    "Do we have an equal number of observations in the ID, Average Price, Month, and London Borough columns? Remember that there are only 32 London Boroughs. How many entries do you have in that column? \n",
    "\n",
    "Check out the contents of the London Borough column, and if you find null values, get rid of them however you see fit. "
   ]
  },
  {
   "cell_type": "code",
   "execution_count": 10,
   "metadata": {
    "colab": {},
    "colab_type": "code",
    "id": "BnvTW5a3p0fC"
   },
   "outputs": [
    {
     "name": "stdout",
     "output_type": "stream",
     "text": [
      "                 Borough         ID      Month         Price\n",
      "0         City of London  E09000001 1995-01-01   91448.98487\n",
      "1     Barking & Dagenham  E09000002 1995-01-01   50460.22660\n",
      "2                 Barnet  E09000003 1995-01-01   93284.51832\n",
      "3                 Bexley  E09000004 1995-01-01   64958.09036\n",
      "4                  Brent  E09000005 1995-01-01   71306.56698\n",
      "5                Bromley  E09000006 1995-01-01   81671.47692\n",
      "6                 Camden  E09000007 1995-01-01  120932.88810\n",
      "7                Croydon  E09000008 1995-01-01   69158.16225\n",
      "8                 Ealing  E09000009 1995-01-01   79885.89069\n",
      "9                Enfield  E09000010 1995-01-01   72514.69096\n",
      "10             Greenwich  E09000011 1995-01-01   62300.10169\n",
      "11               Hackney  E09000012 1995-01-01   61296.52637\n",
      "12  Hammersmith & Fulham  E09000013 1995-01-01  124902.86020\n",
      "13              Haringey  E09000014 1995-01-01   76287.56947\n",
      "14                Harrow  E09000015 1995-01-01   84769.52599\n",
      "15              Havering  E09000016 1995-01-01   68000.13774\n",
      "16            Hillingdon  E09000017 1995-01-01   73834.82964\n",
      "17              Hounslow  E09000018 1995-01-01   72231.70537\n",
      "18             Islington  E09000019 1995-01-01   92516.48557\n",
      "19  Kensington & Chelsea  E09000020 1995-01-01  182694.83260\n",
      "20  Kingston upon Thames  E09000021 1995-01-01   80875.84843\n",
      "21               Lambeth  E09000022 1995-01-01   67770.98843\n",
      "22              Lewisham  E09000023 1995-01-01   60491.26109\n",
      "23                Merton  E09000024 1995-01-01   82070.61330\n",
      "24                Newham  E09000025 1995-01-01   53539.31919\n",
      "25             Redbridge  E09000026 1995-01-01   72189.58437\n",
      "26  Richmond upon Thames  E09000027 1995-01-01  109326.12450\n",
      "27             Southwark  E09000028 1995-01-01   67885.20344\n",
      "28                Sutton  E09000029 1995-01-01   71536.97357\n",
      "29         Tower Hamlets  E09000030 1995-01-01   59865.18995\n",
      "30        Waltham Forest  E09000031 1995-01-01   61319.44913\n",
      "31            Wandsworth  E09000032 1995-01-01   88559.04381\n",
      "32           Westminster  E09000033 1995-01-01  133025.27720\n",
      "48        City of London  E09000001 1995-02-01   82202.77314\n",
      "49    Barking & Dagenham  E09000002 1995-02-01   51085.77983\n",
      "50                Barnet  E09000003 1995-02-01   93190.16963\n",
      "51                Bexley  E09000004 1995-02-01   64787.92069\n",
      "52                 Brent  E09000005 1995-02-01   72022.26197\n",
      "53               Bromley  E09000006 1995-02-01   81657.55944\n",
      "54                Camden  E09000007 1995-02-01  119508.86220\n",
      "55               Croydon  E09000008 1995-02-01   68951.09542\n",
      "56                Ealing  E09000009 1995-02-01   80897.06551\n",
      "57               Enfield  E09000010 1995-02-01   73155.19746\n",
      "58             Greenwich  E09000011 1995-02-01   60993.26863\n",
      "59               Hackney  E09000012 1995-02-01   63187.08332\n",
      "60  Hammersmith & Fulham  E09000013 1995-02-01  122087.71800\n",
      "61              Haringey  E09000014 1995-02-01   78901.21036\n",
      "62                Harrow  E09000015 1995-02-01   83396.10525\n",
      "63              Havering  E09000016 1995-02-01   69393.51294\n",
      "64            Hillingdon  E09000017 1995-02-01   75031.06960\n"
     ]
    }
   ],
   "source": [
    "# remove all non-existant data\n",
    "prop_tall = prop_trans_tall.dropna()\n",
    "# print(prop_tall.head(50))  # used to test NaN was dropped successfully\n",
    "\n",
    "# filter to just boroughs\n",
    "borough_filter = prop_tall.iloc[0:33, 0].tolist()\n",
    "# print(borough_filter)   # used to test list result\n",
    "prop_tall_filter = prop_tall.loc[prop_tall['Borough'].isin(borough_filter)]\n",
    "print(prop_tall_filter.head(50))"
   ]
  },
  {
   "cell_type": "markdown",
   "metadata": {
    "colab_type": "text",
    "id": "PGEx6mJsp6dG"
   },
   "source": [
    "**2.6. Visualizing the data**\n",
    "\n",
    "To visualize the data, why not subset on a particular London Borough? Maybe do a line plot of Month against Average Price?"
   ]
  },
  {
   "cell_type": "code",
   "execution_count": 11,
   "metadata": {
    "colab": {},
    "colab_type": "code",
    "id": "nAg5pT9cqHAR"
   },
   "outputs": [
    {
     "name": "stdout",
     "output_type": "stream",
     "text": [
      "              Borough         ID      Month      Price\n",
      "15984  City of London  E09000001 2022-10-01   973458.0\n",
      "16032  City of London  E09000001 2022-11-01  1004759.0\n",
      "16080  City of London  E09000001 2022-12-01   988570.0\n",
      "16128  City of London  E09000001 2023-01-01   976404.0\n",
      "16176  City of London  E09000001 2023-02-01   881547.0\n",
      "16224  City of London  E09000001 2023-03-01   927741.0\n",
      "16272  City of London  E09000001 2023-04-01   901007.0\n",
      "16320  City of London  E09000001 2023-05-01   950246.0\n",
      "16368  City of London  E09000001 2023-06-01   944505.0\n",
      "16416  City of London  E09000001 2023-07-01   905489.0\n"
     ]
    },
    {
     "data": {
      "image/png": "[encoded data removed]",
      "text/plain": [
       "<Figure size 640x480 with 1 Axes>"
      ]
     },
     "metadata": {},
     "output_type": "display_data"
    }
   ],
   "source": [
    "prop_London = prop_tall_filter[prop_tall_filter['Borough'] == 'City of London']\n",
    "print(prop_London.tail(10))\n",
    "plt.plot(prop_London['Month'], prop_London['Price'].rolling(12).mean())\n",
    "plt.legend(['London'])\n",
    "plt.show()"
   ]
  },
  {
   "cell_type": "markdown",
   "metadata": {
    "colab_type": "text",
    "id": "aWTPqSJeqHnC"
   },
   "source": [
    "To limit the number of data points you have, you might want to extract the year from every month value your *Month* column. \n",
    "\n",
    "To this end, you *could* apply a ***lambda function***. Your logic could work as follows:\n",
    "1. look through the `Month` column\n",
    "2. extract the year from each individual value in that column \n",
    "3. store that corresponding year as separate column. \n",
    "\n",
    "Whether you go ahead with this is up to you. Just so long as you answer our initial brief: which boroughs of London have seen the greatest house price increase, on average, over the past two decades? "
   ]
  },
  {
   "cell_type": "code",
   "execution_count": 21,
   "metadata": {},
   "outputs": [
    {
     "name": "stdout",
     "output_type": "stream",
     "text": [
      "      Borough         ID      Month        Price\n",
      "1739  Hackney  E09000012 1998-01-01  83515.56700\n",
      "1787  Hackney  E09000012 1998-02-01  82417.10251\n",
      "1835  Hackney  E09000012 1998-03-01  84204.15339\n",
      "1883  Hackney  E09000012 1998-04-01  83175.76640\n",
      "1931  Hackney  E09000012 1998-05-01  86573.06588\n",
      "1979  Hackney  E09000012 1998-06-01  87176.06887\n",
      "2027  Hackney  E09000012 1998-07-01  91550.14180\n",
      "2075  Hackney  E09000012 1998-08-01  89590.38219\n",
      "2123  Hackney  E09000012 1998-09-01  92145.91463\n",
      "2171  Hackney  E09000012 1998-10-01  88622.63034\n",
      "2219  Hackney  E09000012 1998-11-01  91616.14533\n",
      "2267  Hackney  E09000012 1998-12-01  93847.49131\n",
      "       Borough         ID      Month         Price\n",
      "13259  Hackney  E09000012 2018-01-01  551718.96150\n",
      "13307  Hackney  E09000012 2018-02-01  553681.99250\n",
      "13355  Hackney  E09000012 2018-03-01  533506.72650\n",
      "13403  Hackney  E09000012 2018-04-01  529849.96150\n",
      "13451  Hackney  E09000012 2018-05-01  540774.99890\n",
      "13499  Hackney  E09000012 2018-06-01  552611.06500\n",
      "13547  Hackney  E09000012 2018-07-01  553833.34200\n",
      "13595  Hackney  E09000012 2018-08-01  544978.69123\n",
      "13643  Hackney  E09000012 2018-09-01  537611.44051\n",
      "13691  Hackney  E09000012 2018-10-01  545516.36020\n",
      "13739  Hackney  E09000012 2018-11-01  543467.26696\n",
      "13787  Hackney  E09000012 2018-12-01  548134.89353\n"
     ]
    }
   ],
   "source": [
    "prop_Hackney_1998 = prop_tall_filter[(prop_tall_filter['Borough'] == 'Hackney') & (prop_tall_filter['Month'].dt.year == 1998)]\n",
    "print(prop_Hackney_1998)\n",
    "prop_Hackney_2018 = prop_tall_filter[(prop_tall_filter['Borough'] == 'Hackney') & (prop_tall_filter['Month'].dt.year == 2018)]\n",
    "print(prop_Hackney_2018)"
   ]
  },
  {
   "cell_type": "code",
   "execution_count": 22,
   "metadata": {},
   "outputs": [
    {
     "name": "stdout",
     "output_type": "stream",
     "text": [
      "6.198285561008662\n"
     ]
    }
   ],
   "source": [
    "Hackney_ratio = prop_Hackney_2018['Price'].mean() / prop_Hackney_1998['Price'].mean()\n",
    "print(Hackney_ratio)"
   ]
  },
  {
   "cell_type": "markdown",
   "metadata": {
    "colab_type": "text",
    "id": "2knuTxAEqoJ4"
   },
   "source": [
    "**3. Modeling**\n",
    "\n",
    "Consider creating a function that will calculate a ratio of house prices, comparing the price of a house in 2018 to the price in 1998.\n",
    "\n",
    "Consider calling this function create_price_ratio.\n",
    "\n",
    "You'd want this function to:\n",
    "1. Take a filter of dfg, specifically where this filter constrains the London_Borough, as an argument. For example, one admissible argument should be: dfg[dfg['London_Borough']=='Camden'].\n",
    "2. Get the Average Price for that Borough, for the years 1998 and 2018.\n",
    "4. Calculate the ratio of the Average Price for 1998 divided by the Average Price for 2018.\n",
    "5. Return that ratio.\n",
    "\n",
    "Once you've written this function, you ultimately want to use it to iterate through all the unique London_Boroughs and work out the ratio capturing the difference of house prices between 1998 and 2018.\n",
    "\n",
    "Bear in mind: you don't have to write a function like this if you don't want to. If you can solve the brief otherwise, then great! \n",
    "\n",
    "***Hint***: This section should test the skills you acquired in:\n",
    "- Python Data Science Toolbox - Part One, all modules"
   ]
  },
  {
   "cell_type": "code",
   "execution_count": 12,
   "metadata": {
    "colab": {},
    "colab_type": "code",
    "id": "cKTyr437UgDa"
   },
   "outputs": [
    {
     "name": "stdout",
     "output_type": "stream",
     "text": [
      "Year             Borough  Mean_Price_1998  Mean_Price_2018  Price_Ratio\n",
      "0     Barking & Dagenham     60285.821083    295196.673612     4.896619\n",
      "1                 Barnet    122359.468033    533266.534055     4.358196\n",
      "2                 Bexley     80632.020822    342603.605654     4.248977\n",
      "3                  Brent    100692.590417    492845.371252     4.894554\n",
      "4                Bromley    108286.520467    443409.985635     4.094785\n"
     ]
    }
   ],
   "source": [
    "def create_price_ratio(df):\n",
    "    \"\"\"Create a dataframe from a dataframe with the ratio of price for London boroughs \n",
    "    between 1998 and 2018\"\"\"\n",
    "\n",
    "    # Create a copy of the DataFrame to avoid modifying the original\n",
    "    df_copy = df.copy()\n",
    "    \n",
    "    # Extract the year from the 'Month' column\n",
    "    df_copy['Year'] = df_copy['Month'].dt.year\n",
    "\n",
    "    # Filter data for the years 1998 and 2018\n",
    "    df_filtered = df_copy[df_copy['Year'].isin([1998, 2018])]\n",
    "\n",
    "    # Group by Borough and Year, and calculate the mean price\n",
    "    df_grouped = df_filtered.groupby(['Borough', 'Year'])['Price'].mean().unstack()\n",
    "\n",
    "    # Calculate the ratio increase\n",
    "    df_grouped['Price_Ratio'] = df_grouped[2018] / df_grouped[1998]\n",
    "\n",
    "    # Reset the index and rename columns\n",
    "    df_grouped = df_grouped.reset_index().rename(columns={1998: 'Mean_Price_1998', \n",
    "                                                          2018: 'Mean_Price_2018'})\n",
    "\n",
    "    return df_grouped\n",
    "\n",
    "result_df = create_price_ratio(prop_tall_filter)\n",
    "print(result_df.head())"
   ]
  },
  {
   "cell_type": "markdown",
   "metadata": {
    "colab_type": "text",
    "id": "NzYUI7FxJpgv"
   },
   "source": [
    "### 4. Conclusion\n",
    "What can you conclude? Type out your conclusion below. \n",
    "\n",
    "Look back at your notebook. Think about how you might summarize what you have done, and prepare a quick presentation on it to your mentor at your next meeting. \n",
    "\n",
    "We hope you enjoyed this practical project. It should have consolidated your data hygiene and pandas skills by looking at a real-world problem involving just the kind of dataset you might encounter as a budding data scientist. Congratulations, and looking forward to seeing you at the next step in the course! "
   ]
  },
  {
   "cell_type": "code",
   "execution_count": 23,
   "metadata": {
    "scrolled": true
   },
   "outputs": [
    {
     "data": {
      "image/png": "[encoded data removed]",
      "text/plain": [
       "<Figure size 640x480 with 1 Axes>"
      ]
     },
     "metadata": {},
     "output_type": "display_data"
    }
   ],
   "source": [
    "plt.bar(result_df['Borough'], result_df['Price_Ratio'])\n",
    "plt.xticks(rotation=90)\n",
    "plt.tick_params(axis='x', which='major', labelsize=6)\n",
    "plt.show()"
   ]
  }
 ],
 "metadata": {
  "colab": {
   "collapsed_sections": [],
   "name": "Springboard Data Science Career Track Unit 4 Challenge - Tier 3 Complete .ipynb",
   "provenance": []
  },
  "kernelspec": {
   "display_name": "Python 3 (ipykernel)",
   "language": "python",
   "name": "python3"
  },
  "language_info": {
   "codemirror_mode": {
    "name": "ipython",
    "version": 3
   },
   "file_extension": ".py",
   "mimetype": "text/x-python",
   "name": "python",
   "nbconvert_exporter": "python",
   "pygments_lexer": "ipython3",
   "version": "3.11.4"
  }
 },
 "nbformat": 4,
 "nbformat_minor": 1
}
