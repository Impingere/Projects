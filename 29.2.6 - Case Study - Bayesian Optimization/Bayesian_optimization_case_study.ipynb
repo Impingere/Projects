{
 "cells": [
  {
   "cell_type": "markdown",
   "metadata": {
    "colab_type": "text",
    "id": "WNK7vbHo-KYU"
   },
   "source": [
    "## Bayesian methods of hyperparameter optimization"
   ]
  },
  {
   "cell_type": "markdown",
   "metadata": {
    "colab_type": "text",
    "id": "BlFdvPwF-KYW"
   },
   "source": [
    "In addition to the random search and the grid search methods for selecting optimal hyperparameters, we can use Bayesian methods of probabilities to select the optimal hyperparameters for an algorithm.\n",
    "\n",
    "In this case study, we will be using the BayesianOptimization library to perform hyperparmater tuning. This library has very good documentation which you can find here: https://github.com/fmfn/BayesianOptimization\n",
    "\n",
    "You will need to install the Bayesian optimization module. Running a cell with an exclamation point in the beginning of the command will run it as a shell command — please do this to install this module from our notebook in the cell below."
   ]
  },
  {
   "cell_type": "code",
   "execution_count": 1,
   "metadata": {
    "colab": {},
    "colab_type": "code",
    "id": "Pssx080d-Ulf"
   },
   "outputs": [],
   "source": [
    "#! pip install bayesian-optimization"
   ]
  },
  {
   "cell_type": "code",
   "execution_count": 1,
   "metadata": {
    "ExecuteTime": {
     "end_time": "2019-04-22T16:39:09.312682Z",
     "start_time": "2019-04-22T16:39:09.309208Z"
    },
    "_kg_hide-input": true,
    "colab": {},
    "colab_type": "code",
    "id": "l9nfFTyj-KYY"
   },
   "outputs": [],
   "source": [
    "import warnings\n",
    "warnings.filterwarnings('ignore')\n",
    "from sklearn.preprocessing import LabelEncoder\n",
    "import numpy as np\n",
    "import pandas as pd\n",
    "import lightgbm\n",
    "from bayes_opt import BayesianOptimization\n",
    "from catboost import CatBoostClassifier, Pool\n",
    "from lightgbm import LGBMClassifier, Dataset, cv\n",
    "from sklearn.metrics import accuracy_score\n",
    "from sklearn.model_selection import cross_val_score"
   ]
  },
  {
   "cell_type": "code",
   "execution_count": 2,
   "metadata": {
    "colab": {
     "base_uri": "https://localhost:8080/",
     "height": 85
    },
    "colab_type": "code",
    "id": "D16Dquw1AAK0",
    "outputId": "44167587-f22e-4bf5-a816-e2bcfdc6c4ee"
   },
   "outputs": [
    {
     "data": {
      "text/plain": [
       "['.DS_Store',\n",
       " '.ipynb_checkpoints',\n",
       " 'Bayesian_optimization_case_study.ipynb',\n",
       " 'flight_delays_test.csv.zip',\n",
       " 'flight_delays_train.csv.zip']"
      ]
     },
     "execution_count": 2,
     "metadata": {},
     "output_type": "execute_result"
    }
   ],
   "source": [
    "import os\n",
    "os.listdir()"
   ]
  },
  {
   "cell_type": "markdown",
   "metadata": {
    "ExecuteTime": {
     "end_time": "2019-04-22T14:48:15.929012Z",
     "start_time": "2019-04-22T14:48:15.926574Z"
    },
    "colab_type": "text",
    "id": "AkBt3yds-KYu"
   },
   "source": [
    "## How does Bayesian optimization work?"
   ]
  },
  {
   "cell_type": "markdown",
   "metadata": {
    "colab_type": "text",
    "id": "E1kyBCUs-KYv"
   },
   "source": [
    "Bayesian optimization works by constructing a posterior distribution of functions (Gaussian process) that best describes the function you want to optimize. As the number of observations grows, the posterior distribution improves, and the algorithm becomes more certain of which regions in parameter space are worth exploring and which are not, as seen in the picture below."
   ]
  },
  {
   "cell_type": "markdown",
   "metadata": {
    "colab_type": "text",
    "id": "gAdHF72R-KYw"
   },
   "source": [
    "<img src=\"https://github.com/fmfn/BayesianOptimization/blob/master/examples/bo_example.png?raw=true\" />\n",
    "As you iterate over and over, the algorithm balances its needs of exploration and exploitation while taking into account what it knows about the target function. At each step, a Gaussian Process is fitted to the known samples (points previously explored), and the posterior distribution, combined with an exploration strategy (such as UCB — aka Upper Confidence Bound), or EI (Expected Improvement). This process is used to determine the next point that should be explored (see the gif below).\n",
    "<img src=\"https://github.com/fmfn/BayesianOptimization/raw/master/examples/bayesian_optimization.gif\" />"
   ]
  },
  {
   "cell_type": "markdown",
   "metadata": {
    "colab_type": "text",
    "id": "RTP8KUlLoYzu"
   },
   "source": [
    "## Let's look at a simple example"
   ]
  },
  {
   "cell_type": "markdown",
   "metadata": {
    "colab_type": "text",
    "id": "crpPqKdC-KYx"
   },
   "source": [
    "The first step is to create an optimizer. It uses two items:\n",
    "* function to optimize\n",
    "* bounds of parameters\n",
    "\n",
    "The function is the procedure that counts metrics of our model quality. The important thing is that our optimization will maximize the value on function. Smaller metrics are best. Hint: don't forget to use negative metric values."
   ]
  },
  {
   "cell_type": "markdown",
   "metadata": {
    "colab_type": "text",
    "id": "e09ciF8gpTfr"
   },
   "source": [
    "Here we define our simple function we want to optimize."
   ]
  },
  {
   "cell_type": "code",
   "execution_count": 3,
   "metadata": {
    "colab": {},
    "colab_type": "code",
    "id": "ofwvnfEwo5mG"
   },
   "outputs": [],
   "source": [
    "def simple_func(a, b):\n",
    "    return a + b"
   ]
  },
  {
   "cell_type": "markdown",
   "metadata": {
    "colab_type": "text",
    "id": "XCGsdciCpeI3"
   },
   "source": [
    "Now, we define our bounds of the parameters to optimize, within the Bayesian optimizer."
   ]
  },
  {
   "cell_type": "code",
   "execution_count": 4,
   "metadata": {
    "colab": {},
    "colab_type": "code",
    "id": "4jLYW2qnpOFr"
   },
   "outputs": [],
   "source": [
    "optimizer = BayesianOptimization(\n",
    "    simple_func,\n",
    "    {'a': (1, 3),\n",
    "    'b': (4, 7)})"
   ]
  },
  {
   "cell_type": "markdown",
   "metadata": {
    "colab_type": "text",
    "id": "dg6LdYx8pq2T"
   },
   "source": [
    "These are the main parameters of this function:\n",
    "\n",
    "* **n_iter:** This is how many steps of Bayesian optimization you want to perform. The more steps, the more likely you are to find a good maximum.\n",
    "\n",
    "* **init_points:** This is how many steps of random exploration you want to perform. Random exploration can help by diversifying the exploration space."
   ]
  },
  {
   "cell_type": "markdown",
   "metadata": {
    "colab_type": "text",
    "id": "i-GKMJ1uqMYv"
   },
   "source": [
    "Let's run an example where we use the optimizer to find the best values to maximize the target value for a and b given the inputs of 3 and 2."
   ]
  },
  {
   "cell_type": "code",
   "execution_count": 5,
   "metadata": {
    "colab": {
     "base_uri": "https://localhost:8080/",
     "height": 153
    },
    "colab_type": "code",
    "id": "Oy44Ro7wqNat",
    "outputId": "9cc64d54-b1e6-46d1-dc29-4c0039a1c72d"
   },
   "outputs": [
    {
     "name": "stdout",
     "output_type": "stream",
     "text": [
      "|   iter    |  target   |     a     |     b     |\n",
      "-------------------------------------------------\n",
      "| \u001b[0m1        \u001b[0m | \u001b[0m7.872    \u001b[0m | \u001b[0m1.445    \u001b[0m | \u001b[0m6.428    \u001b[0m |\n",
      "| \u001b[0m2        \u001b[0m | \u001b[0m7.603    \u001b[0m | \u001b[0m1.567    \u001b[0m | \u001b[0m6.037    \u001b[0m |\n",
      "| \u001b[95m3        \u001b[0m | \u001b[95m8.849    \u001b[0m | \u001b[95m2.457    \u001b[0m | \u001b[95m6.391    \u001b[0m |\n",
      "| \u001b[95m4        \u001b[0m | \u001b[95m9.396    \u001b[0m | \u001b[95m2.846    \u001b[0m | \u001b[95m6.55     \u001b[0m |\n",
      "| \u001b[95m5        \u001b[0m | \u001b[95m10.0     \u001b[0m | \u001b[95m3.0      \u001b[0m | \u001b[95m7.0      \u001b[0m |\n",
      "=================================================\n"
     ]
    }
   ],
   "source": [
    "optimizer.maximize(3,2)"
   ]
  },
  {
   "cell_type": "markdown",
   "metadata": {
    "colab_type": "text",
    "id": "tyKFMF2Hq2Sx"
   },
   "source": [
    "Great, now let's print the best parameters and the associated maximized target."
   ]
  },
  {
   "cell_type": "code",
   "execution_count": 6,
   "metadata": {
    "colab": {
     "base_uri": "https://localhost:8080/",
     "height": 51
    },
    "colab_type": "code",
    "id": "_H6DixyfscV_",
    "outputId": "fd0c35d7-e30d-4d30-9ab2-12c0fa837971"
   },
   "outputs": [
    {
     "name": "stdout",
     "output_type": "stream",
     "text": [
      "{'a': 3.0, 'b': 7.0}\n"
     ]
    },
    {
     "data": {
      "text/plain": [
       "10.0"
      ]
     },
     "execution_count": 6,
     "metadata": {},
     "output_type": "execute_result"
    }
   ],
   "source": [
    "print(optimizer.max['params']);optimizer.max['target']"
   ]
  },
  {
   "cell_type": "markdown",
   "metadata": {
    "colab_type": "text",
    "id": "tQ1T1V6Mspi4"
   },
   "source": [
    "## Test it on real data using the Light GBM"
   ]
  },
  {
   "cell_type": "markdown",
   "metadata": {
    "colab_type": "text",
    "id": "y_oGwREZkm4h"
   },
   "source": [
    "The dataset we will be working with is the famous flight departures dataset. Our modeling goal will be to predict if a flight departure is going to be delayed by 15 minutes based on the other attributes in our dataset. As part of this modeling exercise, we will use Bayesian hyperparameter optimization to identify the best parameters for our model."
   ]
  },
  {
   "cell_type": "markdown",
   "metadata": {
    "colab_type": "text",
    "id": "abYSagjQANDZ"
   },
   "source": [
    "**<font color='teal'> You can load the zipped csv files just as you would regular csv files using Pandas read_csv. In the next cell load the train and test data into two seperate dataframes. </font>**\n"
   ]
  },
  {
   "cell_type": "code",
   "execution_count": 7,
   "metadata": {
    "colab": {},
    "colab_type": "code",
    "id": "EWKBApVuAeJe"
   },
   "outputs": [],
   "source": [
    "train_df = pd.read_csv('flight_delays_train.csv.zip')\n",
    "test_df = pd.read_csv('flight_delays_test.csv.zip')"
   ]
  },
  {
   "cell_type": "markdown",
   "metadata": {
    "colab_type": "text",
    "id": "OapNcT9Eikis"
   },
   "source": [
    "**<font color='teal'> Print the top five rows of the train dataframe and review the columns in the data. </font>**"
   ]
  },
  {
   "cell_type": "code",
   "execution_count": 8,
   "metadata": {
    "colab": {
     "base_uri": "https://localhost:8080/",
     "height": 204
    },
    "colab_type": "code",
    "id": "__4cXZ8iiYaC",
    "outputId": "8718ad4b-8955-486c-9ae8-1dee6aa6c2fb"
   },
   "outputs": [
    {
     "data": {
      "text/html": [
       "<div>\n",
       "<style scoped>\n",
       "    .dataframe tbody tr th:only-of-type {\n",
       "        vertical-align: middle;\n",
       "    }\n",
       "\n",
       "    .dataframe tbody tr th {\n",
       "        vertical-align: top;\n",
       "    }\n",
       "\n",
       "    .dataframe thead th {\n",
       "        text-align: right;\n",
       "    }\n",
       "</style>\n",
       "<table border=\"1\" class=\"dataframe\">\n",
       "  <thead>\n",
       "    <tr style=\"text-align: right;\">\n",
       "      <th></th>\n",
       "      <th>Month</th>\n",
       "      <th>DayofMonth</th>\n",
       "      <th>DayOfWeek</th>\n",
       "      <th>DepTime</th>\n",
       "      <th>UniqueCarrier</th>\n",
       "      <th>Origin</th>\n",
       "      <th>Dest</th>\n",
       "      <th>Distance</th>\n",
       "      <th>dep_delayed_15min</th>\n",
       "    </tr>\n",
       "  </thead>\n",
       "  <tbody>\n",
       "    <tr>\n",
       "      <th>0</th>\n",
       "      <td>c-8</td>\n",
       "      <td>c-21</td>\n",
       "      <td>c-7</td>\n",
       "      <td>1934</td>\n",
       "      <td>AA</td>\n",
       "      <td>ATL</td>\n",
       "      <td>DFW</td>\n",
       "      <td>732</td>\n",
       "      <td>N</td>\n",
       "    </tr>\n",
       "    <tr>\n",
       "      <th>1</th>\n",
       "      <td>c-4</td>\n",
       "      <td>c-20</td>\n",
       "      <td>c-3</td>\n",
       "      <td>1548</td>\n",
       "      <td>US</td>\n",
       "      <td>PIT</td>\n",
       "      <td>MCO</td>\n",
       "      <td>834</td>\n",
       "      <td>N</td>\n",
       "    </tr>\n",
       "    <tr>\n",
       "      <th>2</th>\n",
       "      <td>c-9</td>\n",
       "      <td>c-2</td>\n",
       "      <td>c-5</td>\n",
       "      <td>1422</td>\n",
       "      <td>XE</td>\n",
       "      <td>RDU</td>\n",
       "      <td>CLE</td>\n",
       "      <td>416</td>\n",
       "      <td>N</td>\n",
       "    </tr>\n",
       "    <tr>\n",
       "      <th>3</th>\n",
       "      <td>c-11</td>\n",
       "      <td>c-25</td>\n",
       "      <td>c-6</td>\n",
       "      <td>1015</td>\n",
       "      <td>OO</td>\n",
       "      <td>DEN</td>\n",
       "      <td>MEM</td>\n",
       "      <td>872</td>\n",
       "      <td>N</td>\n",
       "    </tr>\n",
       "    <tr>\n",
       "      <th>4</th>\n",
       "      <td>c-10</td>\n",
       "      <td>c-7</td>\n",
       "      <td>c-6</td>\n",
       "      <td>1828</td>\n",
       "      <td>WN</td>\n",
       "      <td>MDW</td>\n",
       "      <td>OMA</td>\n",
       "      <td>423</td>\n",
       "      <td>Y</td>\n",
       "    </tr>\n",
       "  </tbody>\n",
       "</table>\n",
       "</div>"
      ],
      "text/plain": [
       "  Month DayofMonth DayOfWeek  DepTime UniqueCarrier Origin Dest  Distance  \\\n",
       "0   c-8       c-21       c-7     1934            AA    ATL  DFW       732   \n",
       "1   c-4       c-20       c-3     1548            US    PIT  MCO       834   \n",
       "2   c-9        c-2       c-5     1422            XE    RDU  CLE       416   \n",
       "3  c-11       c-25       c-6     1015            OO    DEN  MEM       872   \n",
       "4  c-10        c-7       c-6     1828            WN    MDW  OMA       423   \n",
       "\n",
       "  dep_delayed_15min  \n",
       "0                 N  \n",
       "1                 N  \n",
       "2                 N  \n",
       "3                 N  \n",
       "4                 Y  "
      ]
     },
     "execution_count": 8,
     "metadata": {},
     "output_type": "execute_result"
    }
   ],
   "source": [
    "train_df.head()"
   ]
  },
  {
   "cell_type": "markdown",
   "metadata": {
    "colab_type": "text",
    "id": "UxGBsPQhffgd"
   },
   "source": [
    "**<font color='teal'> Use the describe function to review the numeric columns in the train dataframe. </font>**"
   ]
  },
  {
   "cell_type": "code",
   "execution_count": 9,
   "metadata": {
    "colab": {
     "base_uri": "https://localhost:8080/",
     "height": 297
    },
    "colab_type": "code",
    "id": "_bRRKG3DAtae",
    "outputId": "7cfb9975-ec97-422c-abbd-98923a0b7aec"
   },
   "outputs": [
    {
     "data": {
      "text/html": [
       "<div>\n",
       "<style scoped>\n",
       "    .dataframe tbody tr th:only-of-type {\n",
       "        vertical-align: middle;\n",
       "    }\n",
       "\n",
       "    .dataframe tbody tr th {\n",
       "        vertical-align: top;\n",
       "    }\n",
       "\n",
       "    .dataframe thead th {\n",
       "        text-align: right;\n",
       "    }\n",
       "</style>\n",
       "<table border=\"1\" class=\"dataframe\">\n",
       "  <thead>\n",
       "    <tr style=\"text-align: right;\">\n",
       "      <th></th>\n",
       "      <th>DepTime</th>\n",
       "      <th>Distance</th>\n",
       "    </tr>\n",
       "  </thead>\n",
       "  <tbody>\n",
       "    <tr>\n",
       "      <th>count</th>\n",
       "      <td>100000.000000</td>\n",
       "      <td>100000.00000</td>\n",
       "    </tr>\n",
       "    <tr>\n",
       "      <th>mean</th>\n",
       "      <td>1341.523880</td>\n",
       "      <td>729.39716</td>\n",
       "    </tr>\n",
       "    <tr>\n",
       "      <th>std</th>\n",
       "      <td>476.378445</td>\n",
       "      <td>574.61686</td>\n",
       "    </tr>\n",
       "    <tr>\n",
       "      <th>min</th>\n",
       "      <td>1.000000</td>\n",
       "      <td>30.00000</td>\n",
       "    </tr>\n",
       "    <tr>\n",
       "      <th>25%</th>\n",
       "      <td>931.000000</td>\n",
       "      <td>317.00000</td>\n",
       "    </tr>\n",
       "    <tr>\n",
       "      <th>50%</th>\n",
       "      <td>1330.000000</td>\n",
       "      <td>575.00000</td>\n",
       "    </tr>\n",
       "    <tr>\n",
       "      <th>75%</th>\n",
       "      <td>1733.000000</td>\n",
       "      <td>957.00000</td>\n",
       "    </tr>\n",
       "    <tr>\n",
       "      <th>max</th>\n",
       "      <td>2534.000000</td>\n",
       "      <td>4962.00000</td>\n",
       "    </tr>\n",
       "  </tbody>\n",
       "</table>\n",
       "</div>"
      ],
      "text/plain": [
       "             DepTime      Distance\n",
       "count  100000.000000  100000.00000\n",
       "mean     1341.523880     729.39716\n",
       "std       476.378445     574.61686\n",
       "min         1.000000      30.00000\n",
       "25%       931.000000     317.00000\n",
       "50%      1330.000000     575.00000\n",
       "75%      1733.000000     957.00000\n",
       "max      2534.000000    4962.00000"
      ]
     },
     "execution_count": 9,
     "metadata": {},
     "output_type": "execute_result"
    }
   ],
   "source": [
    "train_df.describe()"
   ]
  },
  {
   "cell_type": "markdown",
   "metadata": {
    "colab_type": "text",
    "id": "i6k-_fI5Aiyh"
   },
   "source": [
    "Notice, `DepTime` is the departure time in a numeric representation in 2400 hours. "
   ]
  },
  {
   "cell_type": "markdown",
   "metadata": {
    "colab_type": "text",
    "id": "gtZS4-hrlQah"
   },
   "source": [
    " **<font color='teal'>The response variable is 'dep_delayed_15min' which is a categorical column, so we need to map the Y for yes and N for no values to 1 and 0. Run the code in the next cell to do this.</font>**"
   ]
  },
  {
   "cell_type": "code",
   "execution_count": 10,
   "metadata": {
    "ExecuteTime": {
     "end_time": "2019-04-22T15:38:42.677690Z",
     "start_time": "2019-04-22T15:38:42.481963Z"
    },
    "colab": {},
    "colab_type": "code",
    "id": "yRlOTbnW-KYc"
   },
   "outputs": [],
   "source": [
    "#train_df = train_df[train_df.DepTime <= 2400].copy()\n",
    "y_train = train_df['dep_delayed_15min'].map({'Y': 1, 'N': 0}).values"
   ]
  },
  {
   "cell_type": "markdown",
   "metadata": {
    "colab_type": "text",
    "id": "z3WPkFQO9uo9"
   },
   "source": [
    "## Feature Engineering\n",
    "Use these defined functions to create additional features for the model. Run the cell to add the functions to your workspace."
   ]
  },
  {
   "cell_type": "code",
   "execution_count": 11,
   "metadata": {
    "colab": {},
    "colab_type": "code",
    "id": "cXqsqz5W9t3r"
   },
   "outputs": [],
   "source": [
    "def label_enc(df_column):\n",
    "    df_column = LabelEncoder().fit_transform(df_column)\n",
    "    return df_column\n",
    "\n",
    "def make_harmonic_features_sin(value, period=2400):\n",
    "    value *= 2 * np.pi / period \n",
    "    return np.sin(value)\n",
    "\n",
    "def make_harmonic_features_cos(value, period=2400):\n",
    "    value *= 2 * np.pi / period \n",
    "    return np.cos(value)\n",
    "\n",
    "def feature_eng(df):\n",
    "    df['flight'] = df['Origin']+df['Dest']\n",
    "    df['Month'] = df.Month.map(lambda x: x.split('-')[-1]).astype('int32')\n",
    "    df['DayofMonth'] = df.DayofMonth.map(lambda x: x.split('-')[-1]).astype('uint8')\n",
    "    df['begin_of_month'] = (df['DayofMonth'] < 10).astype('uint8')\n",
    "    df['midddle_of_month'] = ((df['DayofMonth'] >= 10)&(df['DayofMonth'] < 20)).astype('uint8')\n",
    "    df['end_of_month'] = (df['DayofMonth'] >= 20).astype('uint8')\n",
    "    df['DayOfWeek'] = df.DayOfWeek.map(lambda x: x.split('-')[-1]).astype('uint8')\n",
    "    df['hour'] = df.DepTime.map(lambda x: x/100).astype('int32')\n",
    "    df['morning'] = df['hour'].map(lambda x: 1 if (x <= 11)& (x >= 7) else 0).astype('uint8')\n",
    "    df['day'] = df['hour'].map(lambda x: 1 if (x >= 12) & (x <= 18) else 0).astype('uint8')\n",
    "    df['evening'] = df['hour'].map(lambda x: 1 if (x >= 19) & (x <= 23) else 0).astype('uint8')\n",
    "    df['night'] = df['hour'].map(lambda x: 1 if (x >= 0) & (x <= 6) else 0).astype('int32')\n",
    "    df['winter'] = df['Month'].map(lambda x: x in [12, 1, 2]).astype('int32')\n",
    "    df['spring'] = df['Month'].map(lambda x: x in [3, 4, 5]).astype('int32')\n",
    "    df['summer'] = df['Month'].map(lambda x: x in [6, 7, 8]).astype('int32')\n",
    "    df['autumn'] = df['Month'].map(lambda x: x in [9, 10, 11]).astype('int32')\n",
    "    df['holiday'] = (df['DayOfWeek'] >= 5).astype(int) \n",
    "    df['weekday'] = (df['DayOfWeek'] < 5).astype(int)\n",
    "    df['airport_dest_per_month'] = df.groupby(['Dest', 'Month'])['Dest'].transform('count')\n",
    "    df['airport_origin_per_month'] = df.groupby(['Origin', 'Month'])['Origin'].transform('count')\n",
    "    df['airport_dest_count'] = df.groupby(['Dest'])['Dest'].transform('count')\n",
    "    df['airport_origin_count'] = df.groupby(['Origin'])['Origin'].transform('count')\n",
    "    df['carrier_count'] = df.groupby(['UniqueCarrier'])['Dest'].transform('count')\n",
    "    df['carrier_count_per month'] = df.groupby(['UniqueCarrier', 'Month'])['Dest'].transform('count')\n",
    "    df['deptime_cos'] = df['DepTime'].map(make_harmonic_features_cos)\n",
    "    df['deptime_sin'] = df['DepTime'].map(make_harmonic_features_sin)\n",
    "    df['flightUC'] = df['flight']+df['UniqueCarrier']\n",
    "    df['DestUC'] = df['Dest']+df['UniqueCarrier']\n",
    "    df['OriginUC'] = df['Origin']+df['UniqueCarrier']\n",
    "    return df.drop('DepTime', axis=1)"
   ]
  },
  {
   "cell_type": "markdown",
   "metadata": {
    "colab_type": "text",
    "id": "-BYbxXpU-FGE"
   },
   "source": [
    "Concatenate the training and testing dataframes.\n"
   ]
  },
  {
   "cell_type": "code",
   "execution_count": 12,
   "metadata": {
    "colab": {},
    "colab_type": "code",
    "id": "Cj6bfSNw_RAf"
   },
   "outputs": [],
   "source": [
    "full_df = pd.concat([train_df.drop('dep_delayed_15min', axis=1), test_df])\n",
    "full_df = feature_eng(full_df)"
   ]
  },
  {
   "cell_type": "markdown",
   "metadata": {
    "colab_type": "text",
    "id": "GSO8JbfM_W-F"
   },
   "source": [
    "Apply the earlier defined feature engineering functions to the full dataframe."
   ]
  },
  {
   "cell_type": "code",
   "execution_count": 13,
   "metadata": {
    "colab": {},
    "colab_type": "code",
    "id": "x6RfAINftjwi"
   },
   "outputs": [],
   "source": [
    "for column in ['UniqueCarrier', 'Origin', 'Dest','flight',  'flightUC', 'DestUC', 'OriginUC']:\n",
    "    full_df[column] = label_enc(full_df[column])"
   ]
  },
  {
   "cell_type": "markdown",
   "metadata": {
    "colab_type": "text",
    "id": "IJAw1RGB_ZuM"
   },
   "source": [
    "\n",
    "Split the new full dataframe into X_train and X_test. "
   ]
  },
  {
   "cell_type": "code",
   "execution_count": 14,
   "metadata": {
    "colab": {},
    "colab_type": "code",
    "id": "15cPtQU5tjfz"
   },
   "outputs": [],
   "source": [
    "X_train = full_df[:train_df.shape[0]]\n",
    "X_test = full_df[train_df.shape[0]:]"
   ]
  },
  {
   "cell_type": "markdown",
   "metadata": {
    "colab_type": "text",
    "id": "umfAw-9JErLV"
   },
   "source": [
    "Create a list of the categorical features."
   ]
  },
  {
   "cell_type": "code",
   "execution_count": 15,
   "metadata": {
    "ExecuteTime": {
     "end_time": "2019-04-22T14:31:58.412296Z",
     "start_time": "2019-04-22T14:31:58.409088Z"
    },
    "colab": {},
    "colab_type": "code",
    "id": "5ibeVyNb-KZI"
   },
   "outputs": [],
   "source": [
    "categorical_features = ['Month',  'DayOfWeek', 'UniqueCarrier', 'Origin', 'Dest','flight',  'flightUC', 'DestUC', 'OriginUC']"
   ]
  },
  {
   "cell_type": "markdown",
   "metadata": {
    "colab_type": "text",
    "id": "NzMIsMPIETVk"
   },
   "source": [
    "Let's build a light GBM model to test the bayesian optimizer."
   ]
  },
  {
   "cell_type": "markdown",
   "metadata": {
    "ExecuteTime": {
     "end_time": "2019-04-22T15:18:04.466965Z",
     "start_time": "2019-04-22T15:18:04.457992Z"
    },
    "colab_type": "text",
    "id": "2hfm1i5G-KZH"
   },
   "source": [
    "### [LightGBM](https://lightgbm.readthedocs.io/en/latest/) is a gradient boosting framework that uses tree-based learning algorithms. It is designed to be distributed and efficient with the following advantages:\n",
    "\n",
    "* Faster training speed and higher efficiency.\n",
    "* Lower memory usage.\n",
    "* Better accuracy.\n",
    "* Support of parallel and GPU learning.\n",
    "* Capable of handling large-scale data."
   ]
  },
  {
   "cell_type": "markdown",
   "metadata": {
    "colab_type": "text",
    "id": "jf-3F2Wg-KZL"
   },
   "source": [
    "First, we define the function we want to maximize and that will count cross-validation metrics of lightGBM for our parameters.\n",
    "\n",
    "Some params such as num_leaves, max_depth, min_child_samples, min_data_in_leaf should be integers."
   ]
  },
  {
   "cell_type": "code",
   "execution_count": 16,
   "metadata": {
    "ExecuteTime": {
     "end_time": "2019-04-22T15:40:14.034265Z",
     "start_time": "2019-04-22T15:40:14.027868Z"
    },
    "colab": {},
    "colab_type": "code",
    "id": "LyUJBhGX-KZM"
   },
   "outputs": [],
   "source": [
    "# rewriting code for udpated versions\n",
    "# def lgb_eval(num_leaves,max_depth,lambda_l2,lambda_l1,min_child_samples, min_data_in_leaf):\n",
    "#     params = {\n",
    "#         \"objective\" : \"binary\",\n",
    "#         \"metric\" : \"auc\", \n",
    "#         'is_unbalance': True,\n",
    "#         \"num_leaves\" : int(num_leaves),\n",
    "#         \"max_depth\" : int(max_depth),\n",
    "#         \"lambda_l2\" : lambda_l2,\n",
    "#         \"lambda_l1\" : lambda_l1,\n",
    "#         \"num_threads\" : 20,\n",
    "#         \"min_child_samples\" : int(min_child_samples),\n",
    "#         'min_data_in_leaf': int(min_data_in_leaf),\n",
    "#         \"learning_rate\" : 0.03,\n",
    "#         \"subsample_freq\" : 5,\n",
    "#         \"bagging_seed\" : 42,\n",
    "#         \"verbosity\" : -1\n",
    "#     }\n",
    "#     lgtrain = lightgbm.Dataset(X_train, y_train,categorical_feature=categorical_features)\n",
    "#     cv_result = lightgbm.cv(params,\n",
    "#                        lgtrain,\n",
    "#                        1000,\n",
    "#                        early_stopping_rounds=100,\n",
    "#                        stratified=True,\n",
    "#                        nfold=3)\n",
    "#     return cv_result['auc-mean'][-1]\n",
    "\n",
    "\n",
    "# updated version for LightGBM\n",
    "\n",
    "\n",
    "# Assuming X_train, y_train are defined as per your dataset\n",
    "\n",
    "# Define the optimization function\n",
    "def lgbm_eval(num_leaves, max_depth, lambda_l2, lambda_l1, min_child_samples, min_data_in_leaf):\n",
    "    \"\"\"\n",
    "    Function to be optimized by Bayesian Optimization.\n",
    "    \"\"\"\n",
    "    params = {\n",
    "        'num_leaves': int(round(num_leaves)),\n",
    "        'max_depth': int(round(max_depth)),\n",
    "        'lambda_l2': max(lambda_l2, 0),\n",
    "        'lambda_l1': max(lambda_l1, 0),\n",
    "        'min_child_samples': int(round(min_child_samples)),\n",
    "        'min_data_in_leaf': int(round(min_data_in_leaf)),\n",
    "        'objective': 'binary',\n",
    "        'metric': 'binary_logloss',\n",
    "        'verbose': -1,\n",
    "        'n_jobs': -1,\n",
    "        'random_state': 42\n",
    "    }\n",
    "    lgbm = LGBMClassifier(**params)\n",
    "    \n",
    "    # Using 5-fold cross-validation\n",
    "    cv_scores = cross_val_score(lgbm, X_train, y_train, cv=5, scoring='accuracy', n_jobs=-1)\n",
    "    \n",
    "    # Return the mean accuracy\n",
    "    return np.mean(cv_scores)\n"
   ]
  },
  {
   "cell_type": "markdown",
   "metadata": {
    "colab_type": "text",
    "id": "FJwqBhdeF11Q"
   },
   "source": [
    "Apply the Bayesian optimizer to the function we created in the previous step to identify the best hyperparameters. We will run 10 iterations and set init_points = 2.\n"
   ]
  },
  {
   "cell_type": "code",
   "execution_count": 17,
   "metadata": {
    "ExecuteTime": {
     "end_time": "2019-04-22T15:48:04.682447Z",
     "start_time": "2019-04-22T15:40:14.641634Z"
    },
    "colab": {
     "base_uri": "https://localhost:8080/",
     "height": 51
    },
    "colab_type": "code",
    "id": "JheCOkUE-KZP",
    "outputId": "8f37ee51-885d-44e4-cdcd-ceb7abd58b61"
   },
   "outputs": [
    {
     "name": "stdout",
     "output_type": "stream",
     "text": [
      "|   iter    |  target   | lambda_l1 | lambda_l2 | max_depth | min_ch... | min_da... | num_le... |\n",
      "-------------------------------------------------------------------------------------------------\n",
      "| \u001b[0m1        \u001b[0m | \u001b[0m0.8191   \u001b[0m | \u001b[0m0.02085  \u001b[0m | \u001b[0m0.03602  \u001b[0m | \u001b[0m5.007    \u001b[0m | \u001b[0m3.058e+03\u001b[0m | \u001b[0m378.8    \u001b[0m | \u001b[0m392.0    \u001b[0m |\n",
      "| \u001b[95m2        \u001b[0m | \u001b[95m0.8201   \u001b[0m | \u001b[95m0.009313 \u001b[0m | \u001b[95m0.01728  \u001b[0m | \u001b[95m28.01    \u001b[0m | \u001b[95m5.411e+03\u001b[0m | \u001b[95m896.5    \u001b[0m | \u001b[95m2.749e+03\u001b[0m |\n",
      "| \u001b[0m3        \u001b[0m | \u001b[0m0.8193   \u001b[0m | \u001b[0m0.01022  \u001b[0m | \u001b[0m0.04391  \u001b[0m | \u001b[0m6.588    \u001b[0m | \u001b[0m6.721e+03\u001b[0m | \u001b[0m892.9    \u001b[0m | \u001b[0m2.246e+03\u001b[0m |\n",
      "| \u001b[95m4        \u001b[0m | \u001b[95m0.8209   \u001b[0m | \u001b[95m0.007019 \u001b[0m | \u001b[95m0.009905 \u001b[0m | \u001b[95m51.44    \u001b[0m | \u001b[95m9.684e+03\u001b[0m | \u001b[95m695.5    \u001b[0m | \u001b[95m2.777e+03\u001b[0m |\n",
      "| \u001b[0m5        \u001b[0m | \u001b[0m0.8207   \u001b[0m | \u001b[0m0.04382  \u001b[0m | \u001b[0m0.04473  \u001b[0m | \u001b[0m9.933    \u001b[0m | \u001b[0m438.6    \u001b[0m | \u001b[0m422.7    \u001b[0m | \u001b[0m3.516e+03\u001b[0m |\n",
      "| \u001b[95m6        \u001b[0m | \u001b[95m0.8219   \u001b[0m | \u001b[95m0.02807  \u001b[0m | \u001b[95m0.01877  \u001b[0m | \u001b[95m32.78    \u001b[0m | \u001b[95m5.634e+03\u001b[0m | \u001b[95m361.7    \u001b[0m | \u001b[95m2.587e+03\u001b[0m |\n",
      "| \u001b[0m7        \u001b[0m | \u001b[0m0.821    \u001b[0m | \u001b[0m0.02989  \u001b[0m | \u001b[0m0.01592  \u001b[0m | \u001b[0m43.46    \u001b[0m | \u001b[0m4.511e+03\u001b[0m | \u001b[0m427.2    \u001b[0m | \u001b[0m1.229e+03\u001b[0m |\n",
      "| \u001b[0m8        \u001b[0m | \u001b[0m0.8202   \u001b[0m | \u001b[0m0.04486  \u001b[0m | \u001b[0m0.02648  \u001b[0m | \u001b[0m8.422    \u001b[0m | \u001b[0m8.381e+03\u001b[0m | \u001b[0m531.1    \u001b[0m | \u001b[0m760.9    \u001b[0m |\n",
      "| \u001b[0m9        \u001b[0m | \u001b[0m0.8191   \u001b[0m | \u001b[0m0.02048  \u001b[0m | \u001b[0m0.006115 \u001b[0m | \u001b[0m47.34    \u001b[0m | \u001b[0m8.687e+03\u001b[0m | \u001b[0m1.359e+03\u001b[0m | \u001b[0m1.595e+03\u001b[0m |\n",
      "| \u001b[0m10       \u001b[0m | \u001b[0m0.821    \u001b[0m | \u001b[0m0.04584  \u001b[0m | \u001b[0m0.004731 \u001b[0m | \u001b[0m62.23    \u001b[0m | \u001b[0m9.473e+03\u001b[0m | \u001b[0m125.3    \u001b[0m | \u001b[0m1.83e+03 \u001b[0m |\n",
      "| \u001b[0m11       \u001b[0m | \u001b[0m0.8182   \u001b[0m | \u001b[0m0.0347   \u001b[0m | \u001b[0m0.02868  \u001b[0m | \u001b[0m24.09    \u001b[0m | \u001b[0m7.113e+03\u001b[0m | \u001b[0m1.615e+03\u001b[0m | \u001b[0m145.7    \u001b[0m |\n",
      "| \u001b[0m12       \u001b[0m | \u001b[0m0.8187   \u001b[0m | \u001b[0m0.01009  \u001b[0m | \u001b[0m0.01468  \u001b[0m | \u001b[0m14.24    \u001b[0m | \u001b[0m2.839e+03\u001b[0m | \u001b[0m1.642e+03\u001b[0m | \u001b[0m2.833e+03\u001b[0m |\n",
      "| \u001b[0m13       \u001b[0m | \u001b[0m0.8192   \u001b[0m | \u001b[0m0.0002309\u001b[0m | \u001b[0m0.04105  \u001b[0m | \u001b[0m34.72    \u001b[0m | \u001b[0m5.39e+03 \u001b[0m | \u001b[0m1.503e+03\u001b[0m | \u001b[0m3.782e+03\u001b[0m |\n",
      "| \u001b[0m14       \u001b[0m | \u001b[0m0.8182   \u001b[0m | \u001b[0m0.001704 \u001b[0m | \u001b[0m0.03593  \u001b[0m | \u001b[0m55.09    \u001b[0m | \u001b[0m3.039e+03\u001b[0m | \u001b[0m1.709e+03\u001b[0m | \u001b[0m1.702e+03\u001b[0m |\n",
      "| \u001b[0m15       \u001b[0m | \u001b[0m0.8218   \u001b[0m | \u001b[0m0.0004259\u001b[0m | \u001b[0m0.01163  \u001b[0m | \u001b[0m22.48    \u001b[0m | \u001b[0m5.707e+03\u001b[0m | \u001b[0m123.9    \u001b[0m | \u001b[0m2.29e+03 \u001b[0m |\n",
      "| \u001b[0m16       \u001b[0m | \u001b[0m0.8216   \u001b[0m | \u001b[0m0.02451  \u001b[0m | \u001b[0m0.0319   \u001b[0m | \u001b[0m22.41    \u001b[0m | \u001b[0m4.848e+03\u001b[0m | \u001b[0m109.2    \u001b[0m | \u001b[0m2.632e+03\u001b[0m |\n",
      "| \u001b[0m17       \u001b[0m | \u001b[0m0.82     \u001b[0m | \u001b[0m0.00103  \u001b[0m | \u001b[0m0.01988  \u001b[0m | \u001b[0m57.95    \u001b[0m | \u001b[0m5.655e+03\u001b[0m | \u001b[0m104.2    \u001b[0m | \u001b[0m3.376e+03\u001b[0m |\n",
      "| \u001b[0m18       \u001b[0m | \u001b[0m0.8216   \u001b[0m | \u001b[0m0.03092  \u001b[0m | \u001b[0m0.006234 \u001b[0m | \u001b[0m35.47    \u001b[0m | \u001b[0m5.118e+03\u001b[0m | \u001b[0m262.0    \u001b[0m | \u001b[0m1.987e+03\u001b[0m |\n",
      "| \u001b[0m19       \u001b[0m | \u001b[0m0.8212   \u001b[0m | \u001b[0m0.04153  \u001b[0m | \u001b[0m0.001336 \u001b[0m | \u001b[0m43.24    \u001b[0m | \u001b[0m9.905e+03\u001b[0m | \u001b[0m134.9    \u001b[0m | \u001b[0m492.6    \u001b[0m |\n",
      "| \u001b[0m20       \u001b[0m | \u001b[0m0.8205   \u001b[0m | \u001b[0m0.028    \u001b[0m | \u001b[0m0.02948  \u001b[0m | \u001b[0m47.04    \u001b[0m | \u001b[0m7.598e+03\u001b[0m | \u001b[0m929.7    \u001b[0m | \u001b[0m2.65e+03 \u001b[0m |\n",
      "| \u001b[95m21       \u001b[0m | \u001b[95m0.8219   \u001b[0m | \u001b[95m0.0485   \u001b[0m | \u001b[95m0.04158  \u001b[0m | \u001b[95m31.01    \u001b[0m | \u001b[95m8.568e+03\u001b[0m | \u001b[95m210.1    \u001b[0m | \u001b[95m3.63e+03 \u001b[0m |\n",
      "| \u001b[0m22       \u001b[0m | \u001b[0m0.8192   \u001b[0m | \u001b[0m0.03717  \u001b[0m | \u001b[0m0.03468  \u001b[0m | \u001b[0m58.64    \u001b[0m | \u001b[0m8.605e+03\u001b[0m | \u001b[0m1.262e+03\u001b[0m | \u001b[0m3.931e+03\u001b[0m |\n",
      "| \u001b[95m23       \u001b[0m | \u001b[95m0.822    \u001b[0m | \u001b[95m0.04024  \u001b[0m | \u001b[95m0.03571  \u001b[0m | \u001b[95m13.48    \u001b[0m | \u001b[95m8.522e+03\u001b[0m | \u001b[95m173.3    \u001b[0m | \u001b[95m2.829e+03\u001b[0m |\n",
      "| \u001b[0m24       \u001b[0m | \u001b[0m0.8209   \u001b[0m | \u001b[0m0.02996  \u001b[0m | \u001b[0m0.02452  \u001b[0m | \u001b[0m46.18    \u001b[0m | \u001b[0m7.669e+03\u001b[0m | \u001b[0m122.9    \u001b[0m | \u001b[0m3.482e+03\u001b[0m |\n",
      "| \u001b[0m25       \u001b[0m | \u001b[0m0.821    \u001b[0m | \u001b[0m0.03607  \u001b[0m | \u001b[0m0.01542  \u001b[0m | \u001b[0m58.49    \u001b[0m | \u001b[0m9.659e+03\u001b[0m | \u001b[0m135.3    \u001b[0m | \u001b[0m3.612e+03\u001b[0m |\n",
      "| \u001b[95m26       \u001b[0m | \u001b[95m0.8226   \u001b[0m | \u001b[95m0.0101   \u001b[0m | \u001b[95m0.04877  \u001b[0m | \u001b[95m24.74    \u001b[0m | \u001b[95m63.31    \u001b[0m | \u001b[95m205.5    \u001b[0m | \u001b[95m1.814e+03\u001b[0m |\n",
      "| \u001b[0m27       \u001b[0m | \u001b[0m0.822    \u001b[0m | \u001b[0m0.008702 \u001b[0m | \u001b[0m0.0008788\u001b[0m | \u001b[0m12.58    \u001b[0m | \u001b[0m58.0     \u001b[0m | \u001b[0m281.2    \u001b[0m | \u001b[0m916.7    \u001b[0m |\n",
      "| \u001b[0m28       \u001b[0m | \u001b[0m0.8221   \u001b[0m | \u001b[0m0.01279  \u001b[0m | \u001b[0m0.04133  \u001b[0m | \u001b[0m12.57    \u001b[0m | \u001b[0m99.09    \u001b[0m | \u001b[0m265.6    \u001b[0m | \u001b[0m869.7    \u001b[0m |\n",
      "| \u001b[0m29       \u001b[0m | \u001b[0m0.8214   \u001b[0m | \u001b[0m0.01469  \u001b[0m | \u001b[0m0.03411  \u001b[0m | \u001b[0m34.48    \u001b[0m | \u001b[0m978.5    \u001b[0m | \u001b[0m148.4    \u001b[0m | \u001b[0m1.353e+03\u001b[0m |\n",
      "| \u001b[0m30       \u001b[0m | \u001b[0m0.8192   \u001b[0m | \u001b[0m0.03523  \u001b[0m | \u001b[0m0.006692 \u001b[0m | \u001b[0m51.29    \u001b[0m | \u001b[0m6.38e+03 \u001b[0m | \u001b[0m1.273e+03\u001b[0m | \u001b[0m2.146e+03\u001b[0m |\n",
      "=================================================================================================\n"
     ]
    }
   ],
   "source": [
    "# rewriting to updated versions\n",
    "# lgbBO = BayesianOptimization(lgb_eval, {'num_leaves': (25, 4000),\n",
    "#                                                 'max_depth': (5, 63),\n",
    "#                                                 'lambda_l2': (0.0, 0.05),\n",
    "#                                                 'lambda_l1': (0.0, 0.05),\n",
    "#                                                 'min_child_samples': (50, 10000),\n",
    "#                                                 'min_data_in_leaf': (100, 2000)\n",
    "#                                                 })\n",
    "\n",
    "# lgbBO.maximize(n_iter=10, init_points=2)\n",
    "\n",
    "# Define bounds of hyperparameters\n",
    "pbounds = {\n",
    "    'num_leaves': (25, 4000),\n",
    "    'max_depth': (5, 63),\n",
    "    'lambda_l2': (0.0, 0.05),\n",
    "    'lambda_l1': (0.0, 0.05),\n",
    "    'min_child_samples': (50, 10000),\n",
    "    'min_data_in_leaf': (100, 2000),\n",
    "}\n",
    "\n",
    "optimizer = BayesianOptimization(\n",
    "    f=lgbm_eval,\n",
    "    pbounds=pbounds,\n",
    "    random_state=1,\n",
    ")\n",
    "\n",
    "# Start optimization\n",
    "optimizer.maximize(init_points=5, n_iter=25)"
   ]
  },
  {
   "cell_type": "markdown",
   "metadata": {
    "colab_type": "text",
    "id": "rdkxhhST-KZS"
   },
   "source": [
    " **<font color='teal'> Print the best result by using the '.max' function.</font>**"
   ]
  },
  {
   "cell_type": "code",
   "execution_count": 18,
   "metadata": {
    "ExecuteTime": {
     "end_time": "2019-04-22T15:49:01.513767Z",
     "start_time": "2019-04-22T15:49:01.509392Z"
    },
    "colab": {},
    "colab_type": "code",
    "id": "oc8z6mfy-KZS"
   },
   "outputs": [
    {
     "data": {
      "text/plain": [
       "{'target': 0.8225500000000002,\n",
       " 'params': {'lambda_l1': 0.010104705647909096,\n",
       "  'lambda_l2': 0.048774809312106995,\n",
       "  'max_depth': 24.74153236176273,\n",
       "  'min_child_samples': 63.30962861941944,\n",
       "  'min_data_in_leaf': 205.52945404893114,\n",
       "  'num_leaves': 1813.6569221314526}}"
      ]
     },
     "execution_count": 18,
     "metadata": {},
     "output_type": "execute_result"
    }
   ],
   "source": [
    "optimizer.max"
   ]
  },
  {
   "cell_type": "markdown",
   "metadata": {
    "ExecuteTime": {
     "end_time": "2019-04-22T15:50:29.049881Z",
     "start_time": "2019-04-22T15:50:29.045908Z"
    },
    "colab_type": "text",
    "id": "J5LAydKC-KZW"
   },
   "source": [
    "Review the process at each step by using the '.res[0]' function."
   ]
  },
  {
   "cell_type": "code",
   "execution_count": 19,
   "metadata": {
    "ExecuteTime": {
     "end_time": "2019-04-22T15:51:01.001688Z",
     "start_time": "2019-04-22T15:51:00.997484Z"
    },
    "colab": {},
    "colab_type": "code",
    "id": "X1ttZmrI-KZX"
   },
   "outputs": [
    {
     "data": {
      "text/plain": [
       "{'target': 0.8190899999999999,\n",
       " 'params': {'lambda_l1': 0.020851100235128702,\n",
       "  'lambda_l2': 0.036016224672107904,\n",
       "  'max_depth': 5.006633739406004,\n",
       "  'min_child_samples': 3058.2090976868058,\n",
       "  'min_data_in_leaf': 378.8361925525148,\n",
       "  'num_leaves': 392.04591420597126}}"
      ]
     },
     "execution_count": 19,
     "metadata": {},
     "output_type": "execute_result"
    }
   ],
   "source": [
    "optimizer.res[0]"
   ]
  }
 ],
 "metadata": {
  "colab": {
   "name": "Bayesian_optimization_exercise.ipynb",
   "provenance": []
  },
  "deepnote_execution_queue": [],
  "kernelspec": {
   "display_name": "Python 3 (ipykernel)",
   "language": "python",
   "name": "python3"
  },
  "language_info": {
   "codemirror_mode": {
    "name": "ipython",
    "version": 3
   },
   "file_extension": ".py",
   "mimetype": "text/x-python",
   "name": "python",
   "nbconvert_exporter": "python",
   "pygments_lexer": "ipython3",
   "version": "3.11.4"
  },
  "varInspector": {
   "cols": {
    "lenName": 16,
    "lenType": 16,
    "lenVar": 40
   },
   "kernels_config": {
    "python": {
     "delete_cmd_postfix": "",
     "delete_cmd_prefix": "del ",
     "library": "var_list.py",
     "varRefreshCmd": "print(var_dic_list())"
    },
    "r": {
     "delete_cmd_postfix": ") ",
     "delete_cmd_prefix": "rm(",
     "library": "var_list.r",
     "varRefreshCmd": "cat(var_dic_list()) "
    }
   },
   "types_to_exclude": [
    "module",
    "function",
    "builtin_function_or_method",
    "instance",
    "_Feature"
   ],
   "window_display": false
  }
 },
 "nbformat": 4,
 "nbformat_minor": 1
}
