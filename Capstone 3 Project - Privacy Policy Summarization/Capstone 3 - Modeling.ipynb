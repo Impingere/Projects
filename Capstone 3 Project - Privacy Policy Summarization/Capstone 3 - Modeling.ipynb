{
 "cells": [
  {
   "cell_type": "markdown",
   "id": "1257ffc2",
   "metadata": {},
   "source": [
    "# Summarizing Privacy Policy - Data Wrangling"
   ]
  },
  {
   "cell_type": "markdown",
   "id": "96d0ef90",
   "metadata": {},
   "source": [
    "## Contents"
   ]
  },
  {
   "cell_type": "markdown",
   "id": "c2aef88c",
   "metadata": {},
   "source": [
    "* [Introduction](#Introduction)\n",
    "* [Objectives](#Objectives)\n",
    "* [About the dataset](#About-the-dataset)\n",
    "* [Import Tools](#Import-Tools)\n",
    "* [Recreating the Dataframe](#Recreating-the-Dataframe)\n",
    "* [Common Words](#Common-Words)\n",
    "* [Splitting the Data](#Splitting-the-Data)\n",
    "* [Hugging Face Transformer](#Hugging-Face-Transformer)\n",
    "* [Evaluating Hugging Face with Rouge](#Evaluating-Hugging-Face-with-Rouge)\n",
    "* [Evaluating Hugging Face with BLEU](#Evaluating-Hugging-Face-with-BLEU)\n",
    "* [Evaluating Hugging Face with BERTScore](#Evaluating-Hugging-Face-with-BERTScore)\n",
    "* [Conclusion](#Conclusion)\n",
    "* [References](#References)"
   ]
  },
  {
   "cell_type": "markdown",
   "id": "b5c615e3",
   "metadata": {},
   "source": [
    "## Introduction<a id='Introduction'></a>"
   ]
  },
  {
   "cell_type": "markdown",
   "id": "4290ff14",
   "metadata": {},
   "source": [
    "In this notebook, I will import and preprocess privacy policy data, preparing it for modeling with natural language \n",
    "processing techniques. The preprocessing pipeline will ensure the data is cleaned, structured, and optimized for analysis. \n",
    "I plan to experiment with multiple modeling approaches to identify the most effective and computationally efficient method. \n",
    "To evaluate performance, I will implement a suite of metrics to ensure the selected model achieves optimal results, \n",
    "balancing accuracy and efficiency. This systematic approach aims to maximize the success and reliability of the final model."
   ]
  },
  {
   "cell_type": "markdown",
   "id": "6610cef9",
   "metadata": {},
   "source": [
    "## Objectives<a id='Objectives'></a>"
   ]
  },
  {
   "cell_type": "markdown",
   "id": "3cef0595",
   "metadata": {},
   "source": [
    "*[Contents](#Contents)"
   ]
  },
  {
   "cell_type": "markdown",
   "id": "abe5e63a",
   "metadata": {},
   "source": [
    "In this project I am going to create an algorithm to summarize text, in particular the terms of service privacy policy. \n",
    "There are several methods this can be accomplished and results tested for, I plan to use a few."
   ]
  },
  {
   "cell_type": "markdown",
   "id": "e37446c7",
   "metadata": {},
   "source": [
    "## About the dataset<a id='About-the-dataset'></a>"
   ]
  },
  {
   "cell_type": "markdown",
   "id": "cc55ad6d",
   "metadata": {},
   "source": [
    "*[Contents](#Contents)"
   ]
  },
  {
   "cell_type": "markdown",
   "id": "8db91cdb",
   "metadata": {},
   "source": [
    "421 pairs of (agreement text, summary) from data privacy policies\n",
    "\n",
    "From https://aclanthology.org/W19-2201/\n",
    "Abstract\n",
    "Unilateral legal contracts, such as terms of service, play a substantial role in modern digital life. However, few read these documents before accepting the terms within, as they are too long and the language too complicated. We propose the task of summarizing such legal documents in plain English, which would enable users to have a better understanding of the terms they are accepting. We propose an initial dataset of legal text snippets paired with summaries written in plain English. We verify the quality of these summaries manually, and show that they involve heavy abstraction, compression, and simplification. Initial experiments show that unsupervised extractive summarization methods do not perform well on this task due to the level of abstraction and style differences. We conclude with a call for resource and technique development for simplification and style transfer for legal language.\n",
    "\n",
    "The project was based on the articles and datasets.\n",
    "\n",
    "https://github.com/maastrichtlawtech/awesome-legal-nlp\n",
    "\n",
    "https://aclanthology.org/W19-2201/\n",
    "\n",
    "https://github.com/lauramanor/legal_summarization/tree/master"
   ]
  },
  {
   "cell_type": "markdown",
   "id": "2d07b9e4",
   "metadata": {},
   "source": [
    "## Import Tools<a id='Import-Tools'></a>"
   ]
  },
  {
   "cell_type": "markdown",
   "id": "56323475",
   "metadata": {},
   "source": [
    "*[Contents](#Contents)"
   ]
  },
  {
   "cell_type": "code",
   "execution_count": 1,
   "id": "a64613ae",
   "metadata": {},
   "outputs": [],
   "source": [
    "import json\n",
    "import pandas as pd\n",
    "import os\n",
    "from dotenv import load_dotenv"
   ]
  },
  {
   "cell_type": "markdown",
   "id": "4b289a44",
   "metadata": {},
   "source": [
    "## Recreating the Dataframe<a id='Recreating-the-Dataframe'></a>"
   ]
  },
  {
   "cell_type": "markdown",
   "id": "455fab6c",
   "metadata": {},
   "source": [
    "*[Contents](#Contents)"
   ]
  },
  {
   "cell_type": "code",
   "execution_count": 2,
   "id": "634e9098",
   "metadata": {},
   "outputs": [
    {
     "name": "stdout",
     "output_type": "stream",
     "text": [
      "                                          legal_text  \\\n",
      "0  search encrypt does not track search history i...   \n",
      "1  we also provide you additional data control op...   \n",
      "2  rvices you grant oath the following worldwide ...   \n",
      "3  we may change these terms and conditions to re...   \n",
      "4  it also enables us to serve you advertising an...   \n",
      "\n",
      "                                             summary  \n",
      "0                   this service does not track you.  \n",
      "1  you can request access and deletion of persona...  \n",
      "2  the copyright license granted to yahoo for pho...  \n",
      "3  if you are a subscriber jagex will treat the f...  \n",
      "4  the service uses your personal data to employ ...  \n"
     ]
    }
   ],
   "source": [
    "# Load environment variables from the .env file\n",
    "load_dotenv()\n",
    "\n",
    "# Get file path from environment variable\n",
    "file_path = os.getenv(\"FILE_PATH\")\n",
    "\n",
    "# Load the JSON file\n",
    "with open(file_path, 'r') as file:\n",
    "    data = json.load(file)\n",
    "\n",
    "# Extract relevant data into a dataframe\n",
    "records = []\n",
    "for item in data.values():\n",
    "    records.append({\n",
    "        'legal_text': item.get('original_text', ''),\n",
    "        'summary': item.get('reference_summary', '')\n",
    "    })\n",
    "\n",
    "# Convert to DataFrame\n",
    "df = pd.DataFrame(records)\n",
    "\n",
    "# Inspect the DataFrame\n",
    "print(df.head())"
   ]
  },
  {
   "cell_type": "markdown",
   "id": "21ce2b56",
   "metadata": {},
   "source": [
    "## Common Words<a id='Common-Words'></a>"
   ]
  },
  {
   "cell_type": "markdown",
   "id": "376ff803",
   "metadata": {},
   "source": [
    "*[Contents](#Contents)"
   ]
  },
  {
   "cell_type": "code",
   "execution_count": 3,
   "id": "1d2848e0",
   "metadata": {},
   "outputs": [
    {
     "name": "stderr",
     "output_type": "stream",
     "text": [
      "[nltk_data] Downloading package wordnet to\n",
      "[nltk_data]     C:\\Users\\where\\AppData\\Roaming\\nltk_data...\n",
      "[nltk_data]   Package wordnet is already up-to-date!\n",
      "[nltk_data] Downloading package omw-1.4 to\n",
      "[nltk_data]     C:\\Users\\where\\AppData\\Roaming\\nltk_data...\n",
      "[nltk_data]   Package omw-1.4 is already up-to-date!\n"
     ]
    },
    {
     "data": {
      "image/png": "[encoded data removed]",
      "text/plain": [
       "<Figure size 1400x700 with 2 Axes>"
      ]
     },
     "metadata": {},
     "output_type": "display_data"
    }
   ],
   "source": [
    "from collections import Counter\n",
    "import matplotlib.pyplot as plt\n",
    "from sklearn.feature_extraction.text import ENGLISH_STOP_WORDS\n",
    "import re\n",
    "from nltk.stem import WordNetLemmatizer\n",
    "from nltk import download\n",
    "\n",
    "# Download NLTK resources if not already installed\n",
    "download('wordnet')\n",
    "download('omw-1.4')\n",
    "\n",
    "# Initialize lemmatizer\n",
    "lemmatizer = WordNetLemmatizer()\n",
    "\n",
    "# Text preprocessing function\n",
    "def preprocess_text(text):\n",
    "    # Lowercase, remove punctuation, and split into words\n",
    "    words = re.sub(r'[^\\w\\s]', '', text.lower()).split()\n",
    "    # Remove stop words and lemmatize\n",
    "    cleaned_words = [lemmatizer.lemmatize(word) for word in words if word not in ENGLISH_STOP_WORDS]\n",
    "    return cleaned_words\n",
    "\n",
    "# Combine and preprocess legal texts and summaries\n",
    "legal_text_words = preprocess_text(' '.join(df['legal_text'].tolist()))\n",
    "summary_words = preprocess_text(' '.join(df['summary'].tolist()))\n",
    "\n",
    "# Count word frequencies\n",
    "legal_text_counter = Counter(legal_text_words)\n",
    "summary_counter = Counter(summary_words)\n",
    "\n",
    "# Get the top 20 most common words\n",
    "top_legal_words = legal_text_counter.most_common(20)\n",
    "top_summary_words = summary_counter.most_common(20)\n",
    "\n",
    "# Extract words and their counts for plotting\n",
    "legal_words, legal_counts = zip(*top_legal_words)\n",
    "summary_words, summary_counts = zip(*top_summary_words)\n",
    "\n",
    "# Plot top 20 words in legal texts\n",
    "plt.figure(figsize=(14, 7))\n",
    "\n",
    "plt.subplot(1, 2, 1)\n",
    "plt.barh(legal_words, legal_counts)\n",
    "plt.xlabel('Frequency')\n",
    "plt.title('Top 20 Words in Legal Texts (Processed)')\n",
    "plt.gca().invert_yaxis()\n",
    "\n",
    "# Plot top 20 words in summaries\n",
    "plt.subplot(1, 2, 2)\n",
    "plt.barh(summary_words, summary_counts)\n",
    "plt.xlabel('Frequency')\n",
    "plt.title('Top 20 Words in Summaries (Processed)')\n",
    "plt.gca().invert_yaxis()\n",
    "\n",
    "plt.tight_layout()\n",
    "plt.show()"
   ]
  },
  {
   "cell_type": "markdown",
   "id": "41a427bb",
   "metadata": {},
   "source": [
    "## Splitting the Data<a id='Splitting-the-Data'></a>"
   ]
  },
  {
   "cell_type": "markdown",
   "id": "24016344",
   "metadata": {},
   "source": [
    "*[Contents](#Contents)"
   ]
  },
  {
   "cell_type": "code",
   "execution_count": 4,
   "id": "7690f8ce",
   "metadata": {},
   "outputs": [
    {
     "name": "stdout",
     "output_type": "stream",
     "text": [
      "PyTorch version: 2.5.1\n",
      "CUDA available: True\n",
      "CUDA version: 11.8\n",
      "Number of GPUs: 1\n"
     ]
    }
   ],
   "source": [
    "import torch\n",
    "\n",
    "print(\"PyTorch version:\", torch.__version__)\n",
    "print(\"CUDA available:\", torch.cuda.is_available())\n",
    "print(\"CUDA version:\", torch.version.cuda)\n",
    "print(\"Number of GPUs:\", torch.cuda.device_count())"
   ]
  },
  {
   "cell_type": "code",
   "execution_count": 5,
   "id": "5bd2cd46",
   "metadata": {},
   "outputs": [],
   "source": [
    "from sklearn.model_selection import train_test_split\n",
    "from transformers import pipeline\n",
    "import pandas as pd"
   ]
  },
  {
   "cell_type": "code",
   "execution_count": 6,
   "id": "545f1aff",
   "metadata": {},
   "outputs": [],
   "source": [
    "# Split the data into training and testing sets\n",
    "train_texts, test_texts, train_summaries, test_summaries = train_test_split(\n",
    "    df['legal_text'], df['summary'], test_size=0.2, random_state=42\n",
    ")\n",
    "\n",
    "# Create training and testing DataFrames\n",
    "train_df = pd.DataFrame({'legal_text': train_texts, 'summary': train_summaries})\n",
    "test_df = pd.DataFrame({'legal_text': test_texts, 'summary': test_summaries})"
   ]
  },
  {
   "cell_type": "markdown",
   "id": "50940e10",
   "metadata": {},
   "source": [
    "## Hugging Face Transformer<a id='Hugging-Face-Transformer'></a>"
   ]
  },
  {
   "cell_type": "markdown",
   "id": "856d9002",
   "metadata": {},
   "source": [
    "*[Contents](#Contents)"
   ]
  },
  {
   "cell_type": "code",
   "execution_count": 7,
   "id": "72121ff1",
   "metadata": {},
   "outputs": [],
   "source": [
    "# Load the pre-trained summarization model and specify GPU (device=0)\n",
    "summarizer = pipeline(\"summarization\", model=\"facebook/bart-large-cnn\", device=0)"
   ]
  },
  {
   "cell_type": "code",
   "execution_count": 8,
   "id": "9c15f00c",
   "metadata": {},
   "outputs": [
    {
     "name": "stderr",
     "output_type": "stream",
     "text": [
      "Asking to truncate to max_length but no maximum length is provided and the model has no predefined maximum length. Default to no truncation.\n",
      "You seem to be using the pipelines sequentially on GPU. In order to maximize efficiency please use a dataset\n"
     ]
    }
   ],
   "source": [
    "def summarize_with_dynamic_lengths(texts, batch_size=8):\n",
    "    def compute_lengths(text):\n",
    "        input_length = len(text.split())\n",
    "        max_length = max(10, int(input_length * 0.75))  # At least 10 tokens, or 75% of input length\n",
    "        min_length = max(5, int(input_length * 0.25))  # At least 5 tokens, or 25% of input length\n",
    "        return max_length, min_length\n",
    "\n",
    "    summaries = []\n",
    "    for i in range(0, len(texts), batch_size):\n",
    "        batch = texts[i:i + batch_size]  # Create a batch of texts\n",
    "        \n",
    "        # Dynamically calculate lengths for the batch\n",
    "        lengths = [compute_lengths(text) for text in batch]\n",
    "        max_lengths = [l[0] for l in lengths]\n",
    "        min_lengths = [l[1] for l in lengths]\n",
    "        \n",
    "        # Apply summarizer to the batch, truncating if necessary\n",
    "        batch_summaries = []\n",
    "        for text, max_len, min_len in zip(batch, max_lengths, min_lengths):\n",
    "            summary = summarizer(text, max_length=max_len, min_length=min_len, truncation=True)\n",
    "            batch_summaries.append(summary[0]['summary_text'])\n",
    "        \n",
    "        summaries.extend(batch_summaries)\n",
    "\n",
    "    return summaries\n",
    "\n",
    "# Apply the summarization function\n",
    "test_df['generated_summary'] = summarize_with_dynamic_lengths(test_df['legal_text'].tolist(), batch_size=8)"
   ]
  },
  {
   "cell_type": "markdown",
   "id": "31617a60",
   "metadata": {},
   "source": [
    "## Evaluating Hugging Face with Rouge<a id='Evaluating-Hugging-Face-with-Rouge'></a>"
   ]
  },
  {
   "cell_type": "markdown",
   "id": "6330c303",
   "metadata": {},
   "source": [
    "*[Contents](#Contents)"
   ]
  },
  {
   "cell_type": "code",
   "execution_count": 9,
   "id": "b18f6a84",
   "metadata": {},
   "outputs": [
    {
     "name": "stdout",
     "output_type": "stream",
     "text": [
      "ROUGE Scores: {'rouge1': np.float64(0.21884259155689426), 'rouge2': np.float64(0.07015122818672762), 'rougeL': np.float64(0.18037303715848363), 'rougeLsum': np.float64(0.17987318540871808)}\n"
     ]
    }
   ],
   "source": [
    "import evaluate\n",
    "\n",
    "# Load ROUGE metric\n",
    "rouge = evaluate.load(\"rouge\")\n",
    "\n",
    "# Calculate ROUGE scores\n",
    "scores = rouge.compute(\n",
    "    predictions=test_df['generated_summary'].tolist(),\n",
    "    references=test_df['summary'].tolist()\n",
    ")\n",
    "\n",
    "# Display scores\n",
    "print(\"ROUGE Scores:\", scores)"
   ]
  },
  {
   "cell_type": "markdown",
   "id": "723143fa-dd8b-4b50-9298-88c870f55884",
   "metadata": {},
   "source": [
    "## Evaluating Hugging Face with BLEU<a id='Evaluating-Hugging-Face-with-BLEU'></a>"
   ]
  },
  {
   "cell_type": "markdown",
   "id": "65e87d70-35f7-458e-94f0-14dd4daceb9a",
   "metadata": {},
   "source": [
    "*[Contents](#Contents)"
   ]
  },
  {
   "cell_type": "code",
   "execution_count": 10,
   "id": "0a53c240",
   "metadata": {},
   "outputs": [
    {
     "name": "stdout",
     "output_type": "stream",
     "text": [
      "Average BLEU Score: 3.30%\n"
     ]
    }
   ],
   "source": [
    "import nltk\n",
    "from nltk.translate.bleu_score import sentence_bleu, SmoothingFunction\n",
    "\n",
    "# Initialize NLTK smoothing function for BLEU\n",
    "smoothing_function = SmoothingFunction().method1\n",
    "\n",
    "# Predictions and references from your DataFrame\n",
    "predictions = test_df['generated_summary'].tolist()\n",
    "references = test_df['summary'].tolist()\n",
    "\n",
    "# Calculate BLEU scores\n",
    "bleu_scores = []\n",
    "\n",
    "for pred, ref in zip(predictions, references):\n",
    "    # Tokenize the reference and prediction\n",
    "    ref_tokens = [ref.split()]  # Reference should be a list of tokenized sentences\n",
    "    pred_tokens = pred.split()  # Prediction is a single tokenized sentence\n",
    "\n",
    "    # Calculate BLEU score for the current pair\n",
    "    score = sentence_bleu(ref_tokens, pred_tokens, smoothing_function=smoothing_function)\n",
    "    bleu_scores.append(score)\n",
    "\n",
    "# Average BLEU score across all pairs\n",
    "average_bleu = sum(bleu_scores) / len(bleu_scores)\n",
    "print(f\"Average BLEU Score: {average_bleu * 100:.2f}%\")"
   ]
  },
  {
   "cell_type": "markdown",
   "id": "d31dcedb-4727-4345-bca7-11869ea6e1dc",
   "metadata": {},
   "source": [
    "## Evaluating Hugging Face with BERTScore<a id='Evaluating-Hugging-Face-with-BERTScore'></a>"
   ]
  },
  {
   "cell_type": "markdown",
   "id": "3d80c2d3-8fd7-4bba-8c72-6a3c9406d144",
   "metadata": {},
   "source": [
    "*[Contents](#Contents)"
   ]
  },
  {
   "cell_type": "code",
   "execution_count": 11,
   "id": "a9a45cbf",
   "metadata": {},
   "outputs": [
    {
     "name": "stderr",
     "output_type": "stream",
     "text": [
      "Some weights of RobertaModel were not initialized from the model checkpoint at roberta-large and are newly initialized: ['roberta.pooler.dense.bias', 'roberta.pooler.dense.weight']\n",
      "You should probably TRAIN this model on a down-stream task to be able to use it for predictions and inference.\n"
     ]
    },
    {
     "name": "stdout",
     "output_type": "stream",
     "text": [
      "calculating scores...\n",
      "computing bert embedding.\n"
     ]
    },
    {
     "data": {
      "application/vnd.jupyter.widget-view+json": {
       "model_id": "4cf0e4d6d7a2454699900bdeece0b674",
       "version_major": 2,
       "version_minor": 0
      },
      "text/plain": [
       "  0%|          | 0/3 [00:00<?, ?it/s]"
      ]
     },
     "metadata": {},
     "output_type": "display_data"
    },
    {
     "name": "stdout",
     "output_type": "stream",
     "text": [
      "computing greedy matching.\n"
     ]
    },
    {
     "data": {
      "application/vnd.jupyter.widget-view+json": {
       "model_id": "6c6ee6cdd0f044f3b7f9e9115408af45",
       "version_major": 2,
       "version_minor": 0
      },
      "text/plain": [
       "  0%|          | 0/2 [00:00<?, ?it/s]"
      ]
     },
     "metadata": {},
     "output_type": "display_data"
    },
    {
     "name": "stdout",
     "output_type": "stream",
     "text": [
      "done in 0.38 seconds, 189.65 sentences/sec\n",
      "Precision: 0.8408\n",
      "Recall: 0.8739\n",
      "F1 Score: 0.8567\n"
     ]
    }
   ],
   "source": [
    "from bert_score import score\n",
    "\n",
    "# Prepare the generated summaries (predictions) and reference summaries\n",
    "predictions = test_df['generated_summary'].tolist()\n",
    "references = test_df['summary'].tolist()\n",
    "\n",
    "# Calculate BERTScore\n",
    "P, R, F1 = score(predictions, references, lang=\"en\", verbose=True)\n",
    "\n",
    "# Average the scores across all examples\n",
    "print(f\"Precision: {P.mean().item():.4f}\")\n",
    "print(f\"Recall: {R.mean().item():.4f}\")\n",
    "print(f\"F1 Score: {F1.mean().item():.4f}\")"
   ]
  },
  {
   "cell_type": "markdown",
   "id": "6f5d13d6-836d-4fe1-b3a8-06bd1aa54f3a",
   "metadata": {},
   "source": [
    "## Conclusion<a id='Conclusion'></a>"
   ]
  },
  {
   "cell_type": "markdown",
   "id": "d37d429a-7f13-4389-a68e-21b0648eb6e5",
   "metadata": {},
   "source": [
    "*[Contents](#Contents)"
   ]
  },
  {
   "cell_type": "markdown",
   "id": "2c908a59-ce90-4bcd-b964-5fe8b94d52a2",
   "metadata": {},
   "source": [
    "The Hugging Face model seemed to perform well under certain metrics. It seems as though ROUGE and BLEU are designed to measure using the same words \n",
    "by comparison. With BERTScore, it uses the hidden states (embeddings) of tokens produced by a transformer model to represent both the generated and \n",
    "reference texts. These embeddings capture the context and meaning of each token, enabling the metric to assess similarity beyond exact word matches. \n",
    "It also does token matching which, for each token in the generated summary, BERTScore finds the most similar token in the reference summary (and \n",
    "vice versa) using cosine similarity. Why does semantic similarity matter? BERTScore accounts for lexical variation in word choice and syntax that \n",
    "maintain the same meaning, which metrics like BLEU and ROUGE may penalize. Words are interpreted within their contextual awareness, making \n",
    "BERTScore robust to synonyms and paraphrasing."
   ]
  },
  {
   "cell_type": "markdown",
   "id": "6364da2a-65b7-4334-9da1-0955254314d9",
   "metadata": {},
   "source": [
    "## References<a id='References'></a>"
   ]
  },
  {
   "cell_type": "markdown",
   "id": "60ede6ef-d09a-4e75-b0da-0bf9a95d1ca2",
   "metadata": {},
   "source": [
    "*[Contents](#Contents)"
   ]
  },
  {
   "cell_type": "markdown",
   "id": "72c028d4-384e-404c-89c9-bc472de1184a",
   "metadata": {},
   "source": [
    "https://github.com/maastrichtlawtech/awesome-legal-nlp\n",
    "\n",
    "https://aclanthology.org/W19-2201/\n",
    "\n",
    "https://github.com/lauramanor/legal_summarization/tree/master"
   ]
  }
 ],
 "metadata": {
  "kernelspec": {
   "display_name": "Python (myenv)",
   "language": "python",
   "name": "myenv"
  },
  "language_info": {
   "codemirror_mode": {
    "name": "ipython",
    "version": 3
   },
   "file_extension": ".py",
   "mimetype": "text/x-python",
   "name": "python",
   "nbconvert_exporter": "python",
   "pygments_lexer": "ipython3",
   "version": "3.11.4"
  }
 },
 "nbformat": 4,
 "nbformat_minor": 5
}
